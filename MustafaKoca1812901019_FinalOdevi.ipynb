{
  "nbformat": 4,
  "nbformat_minor": 0,
  "metadata": {
    "colab": {
      "name": "MustafaKoca1812901019_FinalOdevi.ipynb",
      "provenance": [],
      "collapsed_sections": []
    },
    "kernelspec": {
      "name": "python3",
      "display_name": "Python 3"
    },
    "language_info": {
      "name": "python"
    }
  },
  "cells": [
    {
      "cell_type": "code",
      "metadata": {
        "id": "g8KweK2agP2n"
      },
      "source": [
        "from pyquery import PyQuery as pq\n",
        "import pandas as pd\n",
        "from sklearn.preprocessing import MinMaxScaler\n",
        "from sklearn import preprocessing\n",
        "from sklearn.linear_model import LinearRegression\n",
        "import pickle\n",
        "from sklearn.cluster import KMeans, AgglomerativeClustering\n",
        "from sklearn.metrics import adjusted_rand_score\n",
        "from sklearn import datasets\n",
        "from sklearn.model_selection import train_test_split\n",
        "import numpy as np\n",
        "from sklearn.metrics import confusion_matrix"
      ],
      "execution_count": null,
      "outputs": []
    },
    {
      "cell_type": "code",
      "metadata": {
        "id": "E6CTmq8gOLRZ"
      },
      "source": [
        "from sklearn.tree import DecisionTreeRegressor\n",
        "from sklearn.ensemble import RandomForestRegressor\n",
        "from sklearn.neighbors import KNeighborsRegressor\n",
        "from sklearn.neighbors import KNeighborsClassifier"
      ],
      "execution_count": null,
      "outputs": []
    },
    {
      "cell_type": "markdown",
      "metadata": {
        "id": "GvFr0ZZ-KVkt"
      },
      "source": [
        "***YAPAY SİNİR AĞI KÜTÜPHANELERİ***"
      ]
    },
    {
      "cell_type": "code",
      "metadata": {
        "id": "N5cpViqkKHN2"
      },
      "source": [
        "from keras.layers import Dense, Dropout, LSTM\n",
        "from keras import Sequential\n",
        "import tensorflow as tf\n",
        "from sklearn.metrics import classification_report, accuracy_score"
      ],
      "execution_count": null,
      "outputs": []
    },
    {
      "cell_type": "markdown",
      "metadata": {
        "id": "evx0_p2iJi3Q"
      },
      "source": [
        "***ÖN İŞLEM KÜTÜPHANELERİ***"
      ]
    },
    {
      "cell_type": "code",
      "metadata": {
        "id": "gTGpOrDnJhSc"
      },
      "source": [
        "from sklearn.impute import SimpleImputer\n",
        "from sklearn.preprocessing import LabelEncoder\n",
        "from sklearn.preprocessing import OneHotEncoder\n",
        "import seaborn as sns"
      ],
      "execution_count": null,
      "outputs": []
    },
    {
      "cell_type": "markdown",
      "metadata": {
        "id": "JOdkzROVllP9"
      },
      "source": [
        "# ***BURADA KENDİ VERİ SETİMİZİ OLUŞTURDUK.***"
      ]
    },
    {
      "cell_type": "code",
      "metadata": {
        "id": "zZ2QgdNS0QG5"
      },
      "source": [
        "arabalistesi=[]"
      ],
      "execution_count": null,
      "outputs": []
    },
    {
      "cell_type": "code",
      "metadata": {
        "id": "hkRJFHrWjbMa"
      },
      "source": [
        "for sayfano in range(1,6):\n",
        "  p=pq(\"https://www.sahibinebak.com/vasita/otomobil/fiat-57?page=\"+str(sayfano))\n",
        "  for i in p(\".searchResultsItem.even.searchResultsPromoHighlight.searchResultsPromoBold.searchResultsFireSale\").items():\n",
        "    liste=[j.text() for j in i(\"td\").items()]\n",
        "    araba={}    \n",
        "    araba[\"seri\"]=liste[1]\n",
        "    if not liste[4]:\n",
        "      continue\n",
        "    else:\n",
        "      araba[\"model_yili\"]=int(liste[4])\n",
        "    if not liste[5]:\n",
        "      continue\n",
        "    else:\n",
        "      araba[\"km\"]=int(liste[5].replace(\".\",\"\").replace(\" \",\"\").replace(\"205bin\",\"205000\"))\n",
        "    araba[\"renk\"]=liste[6]\n",
        "    araba[\"fiyat\"]=int(liste[7][:-3].replace(\".\",\"\"))\n",
        "    arabalistesi.append(araba)"
      ],
      "execution_count": null,
      "outputs": []
    },
    {
      "cell_type": "code",
      "metadata": {
        "id": "bntG34-fnOHY"
      },
      "source": [
        "verimustafa=pd.DataFrame(arabalistesi) #veri seti haline getirme"
      ],
      "execution_count": null,
      "outputs": []
    },
    {
      "cell_type": "code",
      "metadata": {
        "colab": {
          "base_uri": "https://localhost:8080/",
          "height": 419
        },
        "id": "g3uw7lWhnrNB",
        "outputId": "39c451dd-eb06-4f28-ad94-81f20594008f"
      },
      "source": [
        "verimustafa"
      ],
      "execution_count": null,
      "outputs": [
        {
          "output_type": "execute_result",
          "data": {
            "text/html": [
              "<div>\n",
              "<style scoped>\n",
              "    .dataframe tbody tr th:only-of-type {\n",
              "        vertical-align: middle;\n",
              "    }\n",
              "\n",
              "    .dataframe tbody tr th {\n",
              "        vertical-align: top;\n",
              "    }\n",
              "\n",
              "    .dataframe thead th {\n",
              "        text-align: right;\n",
              "    }\n",
              "</style>\n",
              "<table border=\"1\" class=\"dataframe\">\n",
              "  <thead>\n",
              "    <tr style=\"text-align: right;\">\n",
              "      <th></th>\n",
              "      <th>seri</th>\n",
              "      <th>model_yili</th>\n",
              "      <th>km</th>\n",
              "      <th>renk</th>\n",
              "      <th>fiyat</th>\n",
              "    </tr>\n",
              "  </thead>\n",
              "  <tbody>\n",
              "    <tr>\n",
              "      <th>0</th>\n",
              "      <td>Linea</td>\n",
              "      <td>2017</td>\n",
              "      <td>75000</td>\n",
              "      <td>Beyaz</td>\n",
              "      <td>119000</td>\n",
              "    </tr>\n",
              "    <tr>\n",
              "      <th>1</th>\n",
              "      <td>Punto</td>\n",
              "      <td>2007</td>\n",
              "      <td>265000</td>\n",
              "      <td>Bordo</td>\n",
              "      <td>57000</td>\n",
              "    </tr>\n",
              "    <tr>\n",
              "      <th>2</th>\n",
              "      <td>Linea</td>\n",
              "      <td>2011</td>\n",
              "      <td>260000</td>\n",
              "      <td>Gri</td>\n",
              "      <td>85000</td>\n",
              "    </tr>\n",
              "    <tr>\n",
              "      <th>3</th>\n",
              "      <td>Linea</td>\n",
              "      <td>2012</td>\n",
              "      <td>222500</td>\n",
              "      <td>Beyaz</td>\n",
              "      <td>74500</td>\n",
              "    </tr>\n",
              "    <tr>\n",
              "      <th>4</th>\n",
              "      <td>Linea</td>\n",
              "      <td>2014</td>\n",
              "      <td>121000</td>\n",
              "      <td>Gümüş Gri</td>\n",
              "      <td>93500</td>\n",
              "    </tr>\n",
              "    <tr>\n",
              "      <th>...</th>\n",
              "      <td>...</td>\n",
              "      <td>...</td>\n",
              "      <td>...</td>\n",
              "      <td>...</td>\n",
              "      <td>...</td>\n",
              "    </tr>\n",
              "    <tr>\n",
              "      <th>68</th>\n",
              "      <td>Linea</td>\n",
              "      <td>2014</td>\n",
              "      <td>385000</td>\n",
              "      <td>Beyaz</td>\n",
              "      <td>29123</td>\n",
              "    </tr>\n",
              "    <tr>\n",
              "      <th>69</th>\n",
              "      <td>Marea</td>\n",
              "      <td>2000</td>\n",
              "      <td>209400</td>\n",
              "      <td>Bej</td>\n",
              "      <td>18000</td>\n",
              "    </tr>\n",
              "    <tr>\n",
              "      <th>70</th>\n",
              "      <td>Egea</td>\n",
              "      <td>2019</td>\n",
              "      <td>2000</td>\n",
              "      <td>Beyaz</td>\n",
              "      <td>85000</td>\n",
              "    </tr>\n",
              "    <tr>\n",
              "      <th>71</th>\n",
              "      <td>Uno</td>\n",
              "      <td>2000</td>\n",
              "      <td>150000</td>\n",
              "      <td>Beyaz</td>\n",
              "      <td>12500</td>\n",
              "    </tr>\n",
              "    <tr>\n",
              "      <th>72</th>\n",
              "      <td>Palio</td>\n",
              "      <td>2005</td>\n",
              "      <td>102000</td>\n",
              "      <td>Kahverengi</td>\n",
              "      <td>19000</td>\n",
              "    </tr>\n",
              "  </tbody>\n",
              "</table>\n",
              "<p>73 rows × 5 columns</p>\n",
              "</div>"
            ],
            "text/plain": [
              "     seri  model_yili      km        renk   fiyat\n",
              "0   Linea        2017   75000       Beyaz  119000\n",
              "1   Punto        2007  265000       Bordo   57000\n",
              "2   Linea        2011  260000         Gri   85000\n",
              "3   Linea        2012  222500       Beyaz   74500\n",
              "4   Linea        2014  121000   Gümüş Gri   93500\n",
              "..    ...         ...     ...         ...     ...\n",
              "68  Linea        2014  385000       Beyaz   29123\n",
              "69  Marea        2000  209400         Bej   18000\n",
              "70   Egea        2019    2000       Beyaz   85000\n",
              "71    Uno        2000  150000       Beyaz   12500\n",
              "72  Palio        2005  102000  Kahverengi   19000\n",
              "\n",
              "[73 rows x 5 columns]"
            ]
          },
          "metadata": {
            "tags": []
          },
          "execution_count": 484
        }
      ]
    },
    {
      "cell_type": "code",
      "metadata": {
        "colab": {
          "base_uri": "https://localhost:8080/"
        },
        "id": "iJQHAvQx12tt",
        "outputId": "2d3bef65-227c-4a13-f471-22a5f95bb7ed"
      },
      "source": [
        "len(arabalistesi)"
      ],
      "execution_count": null,
      "outputs": [
        {
          "output_type": "execute_result",
          "data": {
            "text/plain": [
              "73"
            ]
          },
          "metadata": {
            "tags": []
          },
          "execution_count": 485
        }
      ]
    },
    {
      "cell_type": "markdown",
      "metadata": {
        "id": "VXVtj2Ex0Z8O"
      },
      "source": [
        "***Yıl ve KM değerlerini -1,1 arasında denk gelen değere yazdırıyoruz***"
      ]
    },
    {
      "cell_type": "code",
      "metadata": {
        "id": "TCsZbrLvyETF"
      },
      "source": [
        "#yıl için\n",
        "scyil=MinMaxScaler()\n",
        "verimustafa[\"model_yili\"]=scyil.fit_transform(verimustafa[\"model_yili\"].values.reshape(-1,1))\n",
        "#km için\n",
        "sckm=MinMaxScaler()\n",
        "verimustafa[\"km\"]=scyil.fit_transform(verimustafa[\"km\"].values.reshape(-1,1))"
      ],
      "execution_count": null,
      "outputs": []
    },
    {
      "cell_type": "code",
      "metadata": {
        "colab": {
          "base_uri": "https://localhost:8080/",
          "height": 419
        },
        "id": "a3roaYluzbAL",
        "outputId": "4320f8e7-0434-46c6-c3bc-741abaff135d"
      },
      "source": [
        "verimustafa"
      ],
      "execution_count": null,
      "outputs": [
        {
          "output_type": "execute_result",
          "data": {
            "text/html": [
              "<div>\n",
              "<style scoped>\n",
              "    .dataframe tbody tr th:only-of-type {\n",
              "        vertical-align: middle;\n",
              "    }\n",
              "\n",
              "    .dataframe tbody tr th {\n",
              "        vertical-align: top;\n",
              "    }\n",
              "\n",
              "    .dataframe thead th {\n",
              "        text-align: right;\n",
              "    }\n",
              "</style>\n",
              "<table border=\"1\" class=\"dataframe\">\n",
              "  <thead>\n",
              "    <tr style=\"text-align: right;\">\n",
              "      <th></th>\n",
              "      <th>seri</th>\n",
              "      <th>model_yili</th>\n",
              "      <th>km</th>\n",
              "      <th>renk</th>\n",
              "      <th>fiyat</th>\n",
              "    </tr>\n",
              "  </thead>\n",
              "  <tbody>\n",
              "    <tr>\n",
              "      <th>0</th>\n",
              "      <td>Linea</td>\n",
              "      <td>0.884615</td>\n",
              "      <td>0.194617</td>\n",
              "      <td>Beyaz</td>\n",
              "      <td>119000</td>\n",
              "    </tr>\n",
              "    <tr>\n",
              "      <th>1</th>\n",
              "      <td>Punto</td>\n",
              "      <td>0.500000</td>\n",
              "      <td>0.688239</td>\n",
              "      <td>Bordo</td>\n",
              "      <td>57000</td>\n",
              "    </tr>\n",
              "    <tr>\n",
              "      <th>2</th>\n",
              "      <td>Linea</td>\n",
              "      <td>0.653846</td>\n",
              "      <td>0.675249</td>\n",
              "      <td>Gri</td>\n",
              "      <td>85000</td>\n",
              "    </tr>\n",
              "    <tr>\n",
              "      <th>3</th>\n",
              "      <td>Linea</td>\n",
              "      <td>0.692308</td>\n",
              "      <td>0.577823</td>\n",
              "      <td>Beyaz</td>\n",
              "      <td>74500</td>\n",
              "    </tr>\n",
              "    <tr>\n",
              "      <th>4</th>\n",
              "      <td>Linea</td>\n",
              "      <td>0.769231</td>\n",
              "      <td>0.314125</td>\n",
              "      <td>Gümüş Gri</td>\n",
              "      <td>93500</td>\n",
              "    </tr>\n",
              "    <tr>\n",
              "      <th>...</th>\n",
              "      <td>...</td>\n",
              "      <td>...</td>\n",
              "      <td>...</td>\n",
              "      <td>...</td>\n",
              "      <td>...</td>\n",
              "    </tr>\n",
              "    <tr>\n",
              "      <th>68</th>\n",
              "      <td>Linea</td>\n",
              "      <td>0.769231</td>\n",
              "      <td>1.000000</td>\n",
              "      <td>Beyaz</td>\n",
              "      <td>29123</td>\n",
              "    </tr>\n",
              "    <tr>\n",
              "      <th>69</th>\n",
              "      <td>Marea</td>\n",
              "      <td>0.230769</td>\n",
              "      <td>0.543789</td>\n",
              "      <td>Bej</td>\n",
              "      <td>18000</td>\n",
              "    </tr>\n",
              "    <tr>\n",
              "      <th>70</th>\n",
              "      <td>Egea</td>\n",
              "      <td>0.961538</td>\n",
              "      <td>0.004962</td>\n",
              "      <td>Beyaz</td>\n",
              "      <td>85000</td>\n",
              "    </tr>\n",
              "    <tr>\n",
              "      <th>71</th>\n",
              "      <td>Uno</td>\n",
              "      <td>0.230769</td>\n",
              "      <td>0.389468</td>\n",
              "      <td>Beyaz</td>\n",
              "      <td>12500</td>\n",
              "    </tr>\n",
              "    <tr>\n",
              "      <th>72</th>\n",
              "      <td>Palio</td>\n",
              "      <td>0.423077</td>\n",
              "      <td>0.264763</td>\n",
              "      <td>Kahverengi</td>\n",
              "      <td>19000</td>\n",
              "    </tr>\n",
              "  </tbody>\n",
              "</table>\n",
              "<p>73 rows × 5 columns</p>\n",
              "</div>"
            ],
            "text/plain": [
              "     seri  model_yili        km        renk   fiyat\n",
              "0   Linea    0.884615  0.194617       Beyaz  119000\n",
              "1   Punto    0.500000  0.688239       Bordo   57000\n",
              "2   Linea    0.653846  0.675249         Gri   85000\n",
              "3   Linea    0.692308  0.577823       Beyaz   74500\n",
              "4   Linea    0.769231  0.314125   Gümüş Gri   93500\n",
              "..    ...         ...       ...         ...     ...\n",
              "68  Linea    0.769231  1.000000       Beyaz   29123\n",
              "69  Marea    0.230769  0.543789         Bej   18000\n",
              "70   Egea    0.961538  0.004962       Beyaz   85000\n",
              "71    Uno    0.230769  0.389468       Beyaz   12500\n",
              "72  Palio    0.423077  0.264763  Kahverengi   19000\n",
              "\n",
              "[73 rows x 5 columns]"
            ]
          },
          "metadata": {
            "tags": []
          },
          "execution_count": 487
        }
      ]
    },
    {
      "cell_type": "code",
      "metadata": {
        "colab": {
          "base_uri": "https://localhost:8080/"
        },
        "id": "ip6AVWkO1E_2",
        "outputId": "4df0281d-8052-4e91-a83b-203fe01f2c24"
      },
      "source": [
        "verimustafa[\"renk\"].value_counts() #değer sayıları"
      ],
      "execution_count": null,
      "outputs": [
        {
          "output_type": "execute_result",
          "data": {
            "text/plain": [
              "Beyaz         26\n",
              "Gümüş Gri      8\n",
              "Gri            7\n",
              "Yeşil          5\n",
              "Mavi           4\n",
              "Siyah          3\n",
              "Kırmızı        3\n",
              "Bej            3\n",
              "Bordo          3\n",
              "Füme           3\n",
              "               3\n",
              "Lacivert       2\n",
              "Kahverengi     1\n",
              "Turkuaz        1\n",
              "Sarı           1\n",
              "Name: renk, dtype: int64"
            ]
          },
          "metadata": {
            "tags": []
          },
          "execution_count": 488
        }
      ]
    },
    {
      "cell_type": "markdown",
      "metadata": {
        "id": "yoNSCGcN38-x"
      },
      "source": [
        "***RENK BEYAZSA 1, DEĞİLSE 0 DÖNDÜR***"
      ]
    },
    {
      "cell_type": "code",
      "metadata": {
        "id": "d_iMs1XF3lD8"
      },
      "source": [
        "def renkata(deger):\n",
        "  if deger!=\"Beyaz\":\n",
        "    return 0\n",
        "  else:\n",
        "    return 1"
      ],
      "execution_count": null,
      "outputs": []
    },
    {
      "cell_type": "code",
      "metadata": {
        "id": "QXoNmfAo4DG4"
      },
      "source": [
        "verimustafa[\"renk\"]=verimustafa[\"renk\"].apply(renkata)"
      ],
      "execution_count": null,
      "outputs": []
    },
    {
      "cell_type": "code",
      "metadata": {
        "colab": {
          "base_uri": "https://localhost:8080/",
          "height": 419
        },
        "id": "GGz5zE-84U2v",
        "outputId": "a0418fd9-4edd-4748-b2b3-931a2308361c"
      },
      "source": [
        "verimustafa"
      ],
      "execution_count": null,
      "outputs": [
        {
          "output_type": "execute_result",
          "data": {
            "text/html": [
              "<div>\n",
              "<style scoped>\n",
              "    .dataframe tbody tr th:only-of-type {\n",
              "        vertical-align: middle;\n",
              "    }\n",
              "\n",
              "    .dataframe tbody tr th {\n",
              "        vertical-align: top;\n",
              "    }\n",
              "\n",
              "    .dataframe thead th {\n",
              "        text-align: right;\n",
              "    }\n",
              "</style>\n",
              "<table border=\"1\" class=\"dataframe\">\n",
              "  <thead>\n",
              "    <tr style=\"text-align: right;\">\n",
              "      <th></th>\n",
              "      <th>seri</th>\n",
              "      <th>model_yili</th>\n",
              "      <th>km</th>\n",
              "      <th>renk</th>\n",
              "      <th>fiyat</th>\n",
              "    </tr>\n",
              "  </thead>\n",
              "  <tbody>\n",
              "    <tr>\n",
              "      <th>0</th>\n",
              "      <td>Linea</td>\n",
              "      <td>0.884615</td>\n",
              "      <td>0.194617</td>\n",
              "      <td>1</td>\n",
              "      <td>119000</td>\n",
              "    </tr>\n",
              "    <tr>\n",
              "      <th>1</th>\n",
              "      <td>Punto</td>\n",
              "      <td>0.500000</td>\n",
              "      <td>0.688239</td>\n",
              "      <td>0</td>\n",
              "      <td>57000</td>\n",
              "    </tr>\n",
              "    <tr>\n",
              "      <th>2</th>\n",
              "      <td>Linea</td>\n",
              "      <td>0.653846</td>\n",
              "      <td>0.675249</td>\n",
              "      <td>0</td>\n",
              "      <td>85000</td>\n",
              "    </tr>\n",
              "    <tr>\n",
              "      <th>3</th>\n",
              "      <td>Linea</td>\n",
              "      <td>0.692308</td>\n",
              "      <td>0.577823</td>\n",
              "      <td>1</td>\n",
              "      <td>74500</td>\n",
              "    </tr>\n",
              "    <tr>\n",
              "      <th>4</th>\n",
              "      <td>Linea</td>\n",
              "      <td>0.769231</td>\n",
              "      <td>0.314125</td>\n",
              "      <td>0</td>\n",
              "      <td>93500</td>\n",
              "    </tr>\n",
              "    <tr>\n",
              "      <th>...</th>\n",
              "      <td>...</td>\n",
              "      <td>...</td>\n",
              "      <td>...</td>\n",
              "      <td>...</td>\n",
              "      <td>...</td>\n",
              "    </tr>\n",
              "    <tr>\n",
              "      <th>68</th>\n",
              "      <td>Linea</td>\n",
              "      <td>0.769231</td>\n",
              "      <td>1.000000</td>\n",
              "      <td>1</td>\n",
              "      <td>29123</td>\n",
              "    </tr>\n",
              "    <tr>\n",
              "      <th>69</th>\n",
              "      <td>Marea</td>\n",
              "      <td>0.230769</td>\n",
              "      <td>0.543789</td>\n",
              "      <td>0</td>\n",
              "      <td>18000</td>\n",
              "    </tr>\n",
              "    <tr>\n",
              "      <th>70</th>\n",
              "      <td>Egea</td>\n",
              "      <td>0.961538</td>\n",
              "      <td>0.004962</td>\n",
              "      <td>1</td>\n",
              "      <td>85000</td>\n",
              "    </tr>\n",
              "    <tr>\n",
              "      <th>71</th>\n",
              "      <td>Uno</td>\n",
              "      <td>0.230769</td>\n",
              "      <td>0.389468</td>\n",
              "      <td>1</td>\n",
              "      <td>12500</td>\n",
              "    </tr>\n",
              "    <tr>\n",
              "      <th>72</th>\n",
              "      <td>Palio</td>\n",
              "      <td>0.423077</td>\n",
              "      <td>0.264763</td>\n",
              "      <td>0</td>\n",
              "      <td>19000</td>\n",
              "    </tr>\n",
              "  </tbody>\n",
              "</table>\n",
              "<p>73 rows × 5 columns</p>\n",
              "</div>"
            ],
            "text/plain": [
              "     seri  model_yili        km  renk   fiyat\n",
              "0   Linea    0.884615  0.194617     1  119000\n",
              "1   Punto    0.500000  0.688239     0   57000\n",
              "2   Linea    0.653846  0.675249     0   85000\n",
              "3   Linea    0.692308  0.577823     1   74500\n",
              "4   Linea    0.769231  0.314125     0   93500\n",
              "..    ...         ...       ...   ...     ...\n",
              "68  Linea    0.769231  1.000000     1   29123\n",
              "69  Marea    0.230769  0.543789     0   18000\n",
              "70   Egea    0.961538  0.004962     1   85000\n",
              "71    Uno    0.230769  0.389468     1   12500\n",
              "72  Palio    0.423077  0.264763     0   19000\n",
              "\n",
              "[73 rows x 5 columns]"
            ]
          },
          "metadata": {
            "tags": []
          },
          "execution_count": 491
        }
      ]
    },
    {
      "cell_type": "markdown",
      "metadata": {
        "id": "R5TecGCp5KC_"
      },
      "source": [
        "***VERİLERİ SİTEDEN BAZEN 65'E KADAR BAZEN 100 ÜZERİ DEĞERE KADAR ÇEKİYOR. HATA ALMAMAK GARANTİ SONUÇ ALMAK İÇİN 60 ÜZERİNDEN İŞLEM YAPTIM!***"
      ]
    },
    {
      "cell_type": "code",
      "metadata": {
        "id": "EFXpYN0j49oS"
      },
      "source": [
        "egitim=verimustafa[:60]\n",
        "test=verimustafa[60:]"
      ],
      "execution_count": null,
      "outputs": []
    },
    {
      "cell_type": "code",
      "metadata": {
        "colab": {
          "base_uri": "https://localhost:8080/"
        },
        "id": "tNTiK0CUB_HQ",
        "outputId": "569785b0-d9a3-41e3-ec87-ac554b4a3420"
      },
      "source": [
        "len(test)"
      ],
      "execution_count": null,
      "outputs": [
        {
          "output_type": "execute_result",
          "data": {
            "text/plain": [
              "13"
            ]
          },
          "metadata": {
            "tags": []
          },
          "execution_count": 379
        }
      ]
    },
    {
      "cell_type": "markdown",
      "metadata": {
        "id": "Vq1gCE5v60aq"
      },
      "source": [
        "***EĞİTİM VE TEST İÇİN GEREKLİ OLAN DEĞERLERİ ALIYORUZ***"
      ]
    },
    {
      "cell_type": "code",
      "metadata": {
        "id": "pIJtquCi5gar"
      },
      "source": [
        "trainX=egitim[[\"model_yili\",\"km\",\"renk\"]].values\n",
        "trainY=egitim[\"fiyat\"].values\n",
        "\n",
        "testX=test[[\"model_yili\",\"km\",\"renk\"]].values\n",
        "testY=test[\"fiyat\"].values"
      ],
      "execution_count": null,
      "outputs": []
    },
    {
      "cell_type": "markdown",
      "metadata": {
        "id": "bOuTq4vj7bHt"
      },
      "source": [
        "***fit komutu ile eğitim yaptık. ***"
      ]
    },
    {
      "cell_type": "code",
      "metadata": {
        "colab": {
          "base_uri": "https://localhost:8080/"
        },
        "id": "n6pf92bT7HU8",
        "outputId": "8025b3d8-2d5b-43a8-cd74-9a4873932583"
      },
      "source": [
        "t=LinearRegression()\n",
        "t.fit(trainX,trainY)"
      ],
      "execution_count": null,
      "outputs": [
        {
          "output_type": "execute_result",
          "data": {
            "text/plain": [
              "LinearRegression(copy_X=True, fit_intercept=True, n_jobs=None, normalize=False)"
            ]
          },
          "metadata": {
            "tags": []
          },
          "execution_count": 494
        }
      ]
    },
    {
      "cell_type": "code",
      "metadata": {
        "id": "voCeD8pm7osT"
      },
      "source": [
        "predictY=t.predict(testX)"
      ],
      "execution_count": null,
      "outputs": []
    },
    {
      "cell_type": "code",
      "metadata": {
        "colab": {
          "base_uri": "https://localhost:8080/"
        },
        "id": "WckpAcPl8Tu5",
        "outputId": "93aaccd1-9704-46bf-ccfc-3fac8e304ff1"
      },
      "source": [
        "for i,j in zip(testY,predictY):\n",
        "  print(i,j)"
      ],
      "execution_count": null,
      "outputs": [
        {
          "output_type": "stream",
          "text": [
            "77750 78615.020368382\n",
            "47500 63334.48960941723\n",
            "29500 53985.34790561516\n",
            "39750 63950.41679495898\n",
            "23000 17693.866098885606\n",
            "85000 89420.38991800063\n",
            "17500 11759.783272604038\n",
            "18500 11747.474987288842\n",
            "29123 55001.380653844884\n",
            "18000 19033.754650697854\n",
            "85000 89420.38991800063\n",
            "12500 16146.954884015628\n",
            "19000 41327.79731947326\n"
          ],
          "name": "stdout"
        }
      ]
    },
    {
      "cell_type": "markdown",
      "metadata": {
        "id": "oqeTuEL0Eg-Z"
      },
      "source": [
        "***HEM TAHMİNİ HEM GERÇEK FİYATI YANYANA YAZDIRDIK. 60'DAN EN SON DEĞERE KADAR TEST İÇİN KULLAN DEDİK.***"
      ]
    },
    {
      "cell_type": "code",
      "metadata": {
        "id": "4QwaWxbw95ao"
      },
      "source": [
        "tahmin=pd.DataFrame(predictY,columns=[\"tahmin\"], index=range(60,len(verimustafa)))"
      ],
      "execution_count": null,
      "outputs": []
    },
    {
      "cell_type": "code",
      "metadata": {
        "colab": {
          "base_uri": "https://localhost:8080/",
          "height": 452
        },
        "id": "3i1heqsDC3v-",
        "outputId": "4c568749-3160-4dc9-c59b-5d7a1ec26c30"
      },
      "source": [
        "pd.concat([test,tahmin],axis=1)"
      ],
      "execution_count": null,
      "outputs": [
        {
          "output_type": "execute_result",
          "data": {
            "text/html": [
              "<div>\n",
              "<style scoped>\n",
              "    .dataframe tbody tr th:only-of-type {\n",
              "        vertical-align: middle;\n",
              "    }\n",
              "\n",
              "    .dataframe tbody tr th {\n",
              "        vertical-align: top;\n",
              "    }\n",
              "\n",
              "    .dataframe thead th {\n",
              "        text-align: right;\n",
              "    }\n",
              "</style>\n",
              "<table border=\"1\" class=\"dataframe\">\n",
              "  <thead>\n",
              "    <tr style=\"text-align: right;\">\n",
              "      <th></th>\n",
              "      <th>seri</th>\n",
              "      <th>model_yili</th>\n",
              "      <th>km</th>\n",
              "      <th>renk</th>\n",
              "      <th>fiyat</th>\n",
              "      <th>tahmin</th>\n",
              "    </tr>\n",
              "  </thead>\n",
              "  <tbody>\n",
              "    <tr>\n",
              "      <th>60</th>\n",
              "      <td>Egea</td>\n",
              "      <td>0.846154</td>\n",
              "      <td>0.020550</td>\n",
              "      <td>1</td>\n",
              "      <td>77750</td>\n",
              "      <td>78615.020368</td>\n",
              "    </tr>\n",
              "    <tr>\n",
              "      <th>61</th>\n",
              "      <td>Palio</td>\n",
              "      <td>0.653846</td>\n",
              "      <td>0.210205</td>\n",
              "      <td>0</td>\n",
              "      <td>47500</td>\n",
              "      <td>63334.489609</td>\n",
              "    </tr>\n",
              "    <tr>\n",
              "      <th>62</th>\n",
              "      <td>Albea</td>\n",
              "      <td>0.538462</td>\n",
              "      <td>0.139799</td>\n",
              "      <td>0</td>\n",
              "      <td>29500</td>\n",
              "      <td>53985.347906</td>\n",
              "    </tr>\n",
              "    <tr>\n",
              "      <th>63</th>\n",
              "      <td>Panda</td>\n",
              "      <td>0.653846</td>\n",
              "      <td>0.173833</td>\n",
              "      <td>0</td>\n",
              "      <td>39750</td>\n",
              "      <td>63950.416795</td>\n",
              "    </tr>\n",
              "    <tr>\n",
              "      <th>64</th>\n",
              "      <td>Tipo</td>\n",
              "      <td>0.115385</td>\n",
              "      <td>0.000416</td>\n",
              "      <td>0</td>\n",
              "      <td>23000</td>\n",
              "      <td>17693.866099</td>\n",
              "    </tr>\n",
              "    <tr>\n",
              "      <th>65</th>\n",
              "      <td>Egea</td>\n",
              "      <td>0.961538</td>\n",
              "      <td>0.004962</td>\n",
              "      <td>1</td>\n",
              "      <td>85000</td>\n",
              "      <td>89420.389918</td>\n",
              "    </tr>\n",
              "    <tr>\n",
              "      <th>66</th>\n",
              "      <td>Brava</td>\n",
              "      <td>0.153846</td>\n",
              "      <td>0.558338</td>\n",
              "      <td>0</td>\n",
              "      <td>17500</td>\n",
              "      <td>11759.783273</td>\n",
              "    </tr>\n",
              "    <tr>\n",
              "      <th>67</th>\n",
              "      <td>Palio</td>\n",
              "      <td>0.230769</td>\n",
              "      <td>0.649269</td>\n",
              "      <td>1</td>\n",
              "      <td>18500</td>\n",
              "      <td>11747.474987</td>\n",
              "    </tr>\n",
              "    <tr>\n",
              "      <th>68</th>\n",
              "      <td>Linea</td>\n",
              "      <td>0.769231</td>\n",
              "      <td>1.000000</td>\n",
              "      <td>1</td>\n",
              "      <td>29123</td>\n",
              "      <td>55001.380654</td>\n",
              "    </tr>\n",
              "    <tr>\n",
              "      <th>69</th>\n",
              "      <td>Marea</td>\n",
              "      <td>0.230769</td>\n",
              "      <td>0.543789</td>\n",
              "      <td>0</td>\n",
              "      <td>18000</td>\n",
              "      <td>19033.754651</td>\n",
              "    </tr>\n",
              "    <tr>\n",
              "      <th>70</th>\n",
              "      <td>Egea</td>\n",
              "      <td>0.961538</td>\n",
              "      <td>0.004962</td>\n",
              "      <td>1</td>\n",
              "      <td>85000</td>\n",
              "      <td>89420.389918</td>\n",
              "    </tr>\n",
              "    <tr>\n",
              "      <th>71</th>\n",
              "      <td>Uno</td>\n",
              "      <td>0.230769</td>\n",
              "      <td>0.389468</td>\n",
              "      <td>1</td>\n",
              "      <td>12500</td>\n",
              "      <td>16146.954884</td>\n",
              "    </tr>\n",
              "    <tr>\n",
              "      <th>72</th>\n",
              "      <td>Palio</td>\n",
              "      <td>0.423077</td>\n",
              "      <td>0.264763</td>\n",
              "      <td>0</td>\n",
              "      <td>19000</td>\n",
              "      <td>41327.797319</td>\n",
              "    </tr>\n",
              "  </tbody>\n",
              "</table>\n",
              "</div>"
            ],
            "text/plain": [
              "     seri  model_yili        km  renk  fiyat        tahmin\n",
              "60   Egea    0.846154  0.020550     1  77750  78615.020368\n",
              "61  Palio    0.653846  0.210205     0  47500  63334.489609\n",
              "62  Albea    0.538462  0.139799     0  29500  53985.347906\n",
              "63  Panda    0.653846  0.173833     0  39750  63950.416795\n",
              "64   Tipo    0.115385  0.000416     0  23000  17693.866099\n",
              "65   Egea    0.961538  0.004962     1  85000  89420.389918\n",
              "66  Brava    0.153846  0.558338     0  17500  11759.783273\n",
              "67  Palio    0.230769  0.649269     1  18500  11747.474987\n",
              "68  Linea    0.769231  1.000000     1  29123  55001.380654\n",
              "69  Marea    0.230769  0.543789     0  18000  19033.754651\n",
              "70   Egea    0.961538  0.004962     1  85000  89420.389918\n",
              "71    Uno    0.230769  0.389468     1  12500  16146.954884\n",
              "72  Palio    0.423077  0.264763     0  19000  41327.797319"
            ]
          },
          "metadata": {
            "tags": []
          },
          "execution_count": 499
        }
      ]
    },
    {
      "cell_type": "markdown",
      "metadata": {
        "id": "kiVAnh4nMi3z"
      },
      "source": [
        "***ŞU ANA KADAR OLAN VERİLERİ KAYDET!!!***"
      ]
    },
    {
      "cell_type": "code",
      "metadata": {
        "id": "Wt7wU_XZMOdv"
      },
      "source": [
        "dosya=open(\"verimustafa.pckl\",\"wb\")\n",
        "pickle.dump(verimustafa,dosya)"
      ],
      "execution_count": null,
      "outputs": []
    },
    {
      "cell_type": "markdown",
      "metadata": {
        "id": "2xNduFVzNAPb"
      },
      "source": [
        "***KAYDEDİLEN VERİYİ OKUR, YEDEK VERİ !!!!***"
      ]
    },
    {
      "cell_type": "code",
      "metadata": {
        "id": "ws779xZ7Moyb"
      },
      "source": [
        "dosya2=open(\"verimustafa.pckl\",\"rb\")\n",
        "verimustafayedek=pickle.load(dosya2)"
      ],
      "execution_count": null,
      "outputs": []
    },
    {
      "cell_type": "markdown",
      "metadata": {
        "id": "fClup_h8aJUK"
      },
      "source": [
        "***BURADA VERİ YEDEK'E YENİ DEĞERLER ATANIYOR!!! ÖNEMLİ OLMAZSA HATA ALIYORUM.***"
      ]
    },
    {
      "cell_type": "code",
      "metadata": {
        "id": "LTU8_oExYF9-"
      },
      "source": [
        "normalizec=[\"fiyat\",\"renk\"]\n",
        "clist={}\n",
        "for i in normalizec:\n",
        "  clist[i]=MinMaxScaler()\n",
        "  verimustafayedek[i]=clist[i].fit_transform(verimustafayedek[i].values.reshape(-1,1))"
      ],
      "execution_count": null,
      "outputs": []
    },
    {
      "cell_type": "code",
      "metadata": {
        "colab": {
          "base_uri": "https://localhost:8080/"
        },
        "id": "mh4Ayo4cUHC4",
        "outputId": "d68d8b40-c5ec-4685-a068-a46ebab0e8ac"
      },
      "source": [
        "verimustafayedek.pop(\"seri\") #bu olursa yani silinmezse float hatası veriyor"
      ],
      "execution_count": null,
      "outputs": [
        {
          "output_type": "execute_result",
          "data": {
            "text/plain": [
              "0     Linea\n",
              "1     Punto\n",
              "2     Linea\n",
              "3     Linea\n",
              "4     Linea\n",
              "      ...  \n",
              "68    Linea\n",
              "69    Marea\n",
              "70     Egea\n",
              "71      Uno\n",
              "72    Palio\n",
              "Name: seri, Length: 73, dtype: object"
            ]
          },
          "metadata": {
            "tags": []
          },
          "execution_count": 503
        }
      ]
    },
    {
      "cell_type": "code",
      "metadata": {
        "colab": {
          "base_uri": "https://localhost:8080/",
          "height": 419
        },
        "id": "ZdjP54DEQE39",
        "outputId": "98f4044b-e343-4525-9190-6f02090a1a9f"
      },
      "source": [
        "verimustafayedek"
      ],
      "execution_count": null,
      "outputs": [
        {
          "output_type": "execute_result",
          "data": {
            "text/html": [
              "<div>\n",
              "<style scoped>\n",
              "    .dataframe tbody tr th:only-of-type {\n",
              "        vertical-align: middle;\n",
              "    }\n",
              "\n",
              "    .dataframe tbody tr th {\n",
              "        vertical-align: top;\n",
              "    }\n",
              "\n",
              "    .dataframe thead th {\n",
              "        text-align: right;\n",
              "    }\n",
              "</style>\n",
              "<table border=\"1\" class=\"dataframe\">\n",
              "  <thead>\n",
              "    <tr style=\"text-align: right;\">\n",
              "      <th></th>\n",
              "      <th>model_yili</th>\n",
              "      <th>km</th>\n",
              "      <th>renk</th>\n",
              "      <th>fiyat</th>\n",
              "    </tr>\n",
              "  </thead>\n",
              "  <tbody>\n",
              "    <tr>\n",
              "      <th>0</th>\n",
              "      <td>0.884615</td>\n",
              "      <td>0.194617</td>\n",
              "      <td>1.0</td>\n",
              "      <td>0.741433</td>\n",
              "    </tr>\n",
              "    <tr>\n",
              "      <th>1</th>\n",
              "      <td>0.500000</td>\n",
              "      <td>0.688239</td>\n",
              "      <td>0.0</td>\n",
              "      <td>0.355140</td>\n",
              "    </tr>\n",
              "    <tr>\n",
              "      <th>2</th>\n",
              "      <td>0.653846</td>\n",
              "      <td>0.675249</td>\n",
              "      <td>0.0</td>\n",
              "      <td>0.529595</td>\n",
              "    </tr>\n",
              "    <tr>\n",
              "      <th>3</th>\n",
              "      <td>0.692308</td>\n",
              "      <td>0.577823</td>\n",
              "      <td>1.0</td>\n",
              "      <td>0.464174</td>\n",
              "    </tr>\n",
              "    <tr>\n",
              "      <th>4</th>\n",
              "      <td>0.769231</td>\n",
              "      <td>0.314125</td>\n",
              "      <td>0.0</td>\n",
              "      <td>0.582555</td>\n",
              "    </tr>\n",
              "    <tr>\n",
              "      <th>...</th>\n",
              "      <td>...</td>\n",
              "      <td>...</td>\n",
              "      <td>...</td>\n",
              "      <td>...</td>\n",
              "    </tr>\n",
              "    <tr>\n",
              "      <th>68</th>\n",
              "      <td>0.769231</td>\n",
              "      <td>1.000000</td>\n",
              "      <td>1.0</td>\n",
              "      <td>0.181452</td>\n",
              "    </tr>\n",
              "    <tr>\n",
              "      <th>69</th>\n",
              "      <td>0.230769</td>\n",
              "      <td>0.543789</td>\n",
              "      <td>0.0</td>\n",
              "      <td>0.112150</td>\n",
              "    </tr>\n",
              "    <tr>\n",
              "      <th>70</th>\n",
              "      <td>0.961538</td>\n",
              "      <td>0.004962</td>\n",
              "      <td>1.0</td>\n",
              "      <td>0.529595</td>\n",
              "    </tr>\n",
              "    <tr>\n",
              "      <th>71</th>\n",
              "      <td>0.230769</td>\n",
              "      <td>0.389468</td>\n",
              "      <td>1.0</td>\n",
              "      <td>0.077882</td>\n",
              "    </tr>\n",
              "    <tr>\n",
              "      <th>72</th>\n",
              "      <td>0.423077</td>\n",
              "      <td>0.264763</td>\n",
              "      <td>0.0</td>\n",
              "      <td>0.118380</td>\n",
              "    </tr>\n",
              "  </tbody>\n",
              "</table>\n",
              "<p>73 rows × 4 columns</p>\n",
              "</div>"
            ],
            "text/plain": [
              "    model_yili        km  renk     fiyat\n",
              "0     0.884615  0.194617   1.0  0.741433\n",
              "1     0.500000  0.688239   0.0  0.355140\n",
              "2     0.653846  0.675249   0.0  0.529595\n",
              "3     0.692308  0.577823   1.0  0.464174\n",
              "4     0.769231  0.314125   0.0  0.582555\n",
              "..         ...       ...   ...       ...\n",
              "68    0.769231  1.000000   1.0  0.181452\n",
              "69    0.230769  0.543789   0.0  0.112150\n",
              "70    0.961538  0.004962   1.0  0.529595\n",
              "71    0.230769  0.389468   1.0  0.077882\n",
              "72    0.423077  0.264763   0.0  0.118380\n",
              "\n",
              "[73 rows x 4 columns]"
            ]
          },
          "metadata": {
            "tags": []
          },
          "execution_count": 504
        }
      ]
    },
    {
      "cell_type": "markdown",
      "metadata": {
        "id": "j-sCbdkaQkoE"
      },
      "source": [
        "# **FARKLI TAHMİN YÖNTEMİ **"
      ]
    },
    {
      "cell_type": "code",
      "metadata": {
        "id": "MDzI6tHwP073"
      },
      "source": [
        "y=verimustafayedek.pop(\"fiyat\")"
      ],
      "execution_count": null,
      "outputs": []
    },
    {
      "cell_type": "code",
      "metadata": {
        "id": "mdbBjZSvP62d"
      },
      "source": [
        "trainx2=verimustafayedek[0:60].values\n",
        "trainy2=y[0:60].values\n",
        "\n",
        "testx2=verimustafayedek[60:].values\n",
        "testy2=y[60:].values"
      ],
      "execution_count": null,
      "outputs": []
    },
    {
      "cell_type": "code",
      "metadata": {
        "id": "MTeIp5Z8SMyD"
      },
      "source": [
        "tlist={}"
      ],
      "execution_count": null,
      "outputs": []
    },
    {
      "cell_type": "code",
      "metadata": {
        "id": "tlmZs0u1S13A"
      },
      "source": [
        "slist={}"
      ],
      "execution_count": null,
      "outputs": []
    },
    {
      "cell_type": "markdown",
      "metadata": {
        "id": "HbeuDpTVk49T"
      },
      "source": [
        "***BURADAKİ DEĞERLERİ DEĞİŞTİREBİLİRİZ. ÇÜNKÜ TEST SONUÇLARINA DİREK ETKİSİ VAR!!!***"
      ]
    },
    {
      "cell_type": "code",
      "metadata": {
        "id": "vOoNkQvBQ772"
      },
      "source": [
        "tlist[\"tkararagaci\"]=DecisionTreeRegressor(min_samples_split=10,min_samples_leaf=5)\n",
        "tlist[\"trastgeleorman\"]=RandomForestRegressor(min_samples_split=10,min_samples_leaf=5)\n",
        "tlist[\"tknn\"]=KNeighborsRegressor()"
      ],
      "execution_count": null,
      "outputs": []
    },
    {
      "cell_type": "code",
      "metadata": {
        "id": "Bum5f_RJSdxM"
      },
      "source": [
        "for i in tlist:\n",
        "  tlist[i].fit(trainx2,trainy2)\n",
        "  slist[i]=tlist[i].predict(testx2)"
      ],
      "execution_count": null,
      "outputs": []
    },
    {
      "cell_type": "code",
      "metadata": {
        "colab": {
          "base_uri": "https://localhost:8080/"
        },
        "id": "v0NCqTKIZbnc",
        "outputId": "0b5f6064-eee9-41e8-ac86-d0b9a9f7bcdb"
      },
      "source": [
        "clist[\"fiyat\"].inverse_transform"
      ],
      "execution_count": null,
      "outputs": [
        {
          "output_type": "execute_result",
          "data": {
            "text/plain": [
              "<bound method MinMaxScaler.inverse_transform of MinMaxScaler(copy=True, feature_range=(0, 1))>"
            ]
          },
          "metadata": {
            "tags": []
          },
          "execution_count": 511
        }
      ]
    },
    {
      "cell_type": "code",
      "metadata": {
        "id": "jqIqa6iNZnd5"
      },
      "source": [
        "for i in slist:\n",
        "  slist[i]=clist[\"fiyat\"].inverse_transform(slist[i].reshape(-1,1))"
      ],
      "execution_count": null,
      "outputs": []
    },
    {
      "cell_type": "code",
      "metadata": {
        "id": "goD4OCbjabsD"
      },
      "source": [
        "gerceky=clist[\"fiyat\"].inverse_transform(testy2.reshape(-1,1))"
      ],
      "execution_count": null,
      "outputs": []
    },
    {
      "cell_type": "code",
      "metadata": {
        "id": "WcjowIRwaAsJ"
      },
      "source": [
        "c=pd.DataFrame(data=range(60,len(verimustafayedek)),index=range(60,len(verimustafayedek))) #test için kaç veri ayrıldıysa range değeri o"
      ],
      "execution_count": null,
      "outputs": []
    },
    {
      "cell_type": "code",
      "metadata": {
        "id": "0fTftchtgNbi"
      },
      "source": [
        "for i in slist:\n",
        "  c[i]=pd.DataFrame(data=slist[i],index=range(60,len(verimustafayedek)))"
      ],
      "execution_count": null,
      "outputs": []
    },
    {
      "cell_type": "code",
      "metadata": {
        "id": "WGj0T6Yaeypi"
      },
      "source": [
        "c[\"gercek\"]=pd.DataFrame(data=gerceky,index=range(60,len(verimustafayedek)))"
      ],
      "execution_count": null,
      "outputs": []
    },
    {
      "cell_type": "code",
      "metadata": {
        "colab": {
          "base_uri": "https://localhost:8080/",
          "height": 452
        },
        "id": "9Vw0LGa7jEue",
        "outputId": "f1462677-9c51-4f49-9969-f2091541da6d"
      },
      "source": [
        "c"
      ],
      "execution_count": null,
      "outputs": [
        {
          "output_type": "execute_result",
          "data": {
            "text/html": [
              "<div>\n",
              "<style scoped>\n",
              "    .dataframe tbody tr th:only-of-type {\n",
              "        vertical-align: middle;\n",
              "    }\n",
              "\n",
              "    .dataframe tbody tr th {\n",
              "        vertical-align: top;\n",
              "    }\n",
              "\n",
              "    .dataframe thead th {\n",
              "        text-align: right;\n",
              "    }\n",
              "</style>\n",
              "<table border=\"1\" class=\"dataframe\">\n",
              "  <thead>\n",
              "    <tr style=\"text-align: right;\">\n",
              "      <th></th>\n",
              "      <th>0</th>\n",
              "      <th>tkararagaci</th>\n",
              "      <th>trastgeleorman</th>\n",
              "      <th>tknn</th>\n",
              "      <th>gercek</th>\n",
              "    </tr>\n",
              "  </thead>\n",
              "  <tbody>\n",
              "    <tr>\n",
              "      <th>60</th>\n",
              "      <td>60</td>\n",
              "      <td>90156.250000</td>\n",
              "      <td>97011.350519</td>\n",
              "      <td>95650.0</td>\n",
              "      <td>77750.0</td>\n",
              "    </tr>\n",
              "    <tr>\n",
              "      <th>61</th>\n",
              "      <td>61</td>\n",
              "      <td>28916.666667</td>\n",
              "      <td>38668.166890</td>\n",
              "      <td>70840.0</td>\n",
              "      <td>47500.0</td>\n",
              "    </tr>\n",
              "    <tr>\n",
              "      <th>62</th>\n",
              "      <td>62</td>\n",
              "      <td>28916.666667</td>\n",
              "      <td>33091.907893</td>\n",
              "      <td>55290.0</td>\n",
              "      <td>29500.0</td>\n",
              "    </tr>\n",
              "    <tr>\n",
              "      <th>63</th>\n",
              "      <td>63</td>\n",
              "      <td>28916.666667</td>\n",
              "      <td>38668.166890</td>\n",
              "      <td>67840.0</td>\n",
              "      <td>39750.0</td>\n",
              "    </tr>\n",
              "    <tr>\n",
              "      <th>64</th>\n",
              "      <td>64</td>\n",
              "      <td>18756.250000</td>\n",
              "      <td>16396.552270</td>\n",
              "      <td>19810.0</td>\n",
              "      <td>23000.0</td>\n",
              "    </tr>\n",
              "    <tr>\n",
              "      <th>65</th>\n",
              "      <td>65</td>\n",
              "      <td>90156.250000</td>\n",
              "      <td>98896.885440</td>\n",
              "      <td>79970.0</td>\n",
              "      <td>85000.0</td>\n",
              "    </tr>\n",
              "    <tr>\n",
              "      <th>66</th>\n",
              "      <td>66</td>\n",
              "      <td>10077.571429</td>\n",
              "      <td>14751.661007</td>\n",
              "      <td>18102.4</td>\n",
              "      <td>17500.0</td>\n",
              "    </tr>\n",
              "    <tr>\n",
              "      <th>67</th>\n",
              "      <td>67</td>\n",
              "      <td>22123.333333</td>\n",
              "      <td>23195.217633</td>\n",
              "      <td>42350.0</td>\n",
              "      <td>18500.0</td>\n",
              "    </tr>\n",
              "    <tr>\n",
              "      <th>68</th>\n",
              "      <td>68</td>\n",
              "      <td>90156.250000</td>\n",
              "      <td>92131.420562</td>\n",
              "      <td>42350.0</td>\n",
              "      <td>29123.0</td>\n",
              "    </tr>\n",
              "    <tr>\n",
              "      <th>69</th>\n",
              "      <td>69</td>\n",
              "      <td>22123.333333</td>\n",
              "      <td>20769.873704</td>\n",
              "      <td>18752.4</td>\n",
              "      <td>18000.0</td>\n",
              "    </tr>\n",
              "    <tr>\n",
              "      <th>70</th>\n",
              "      <td>70</td>\n",
              "      <td>90156.250000</td>\n",
              "      <td>98896.885440</td>\n",
              "      <td>79970.0</td>\n",
              "      <td>85000.0</td>\n",
              "    </tr>\n",
              "    <tr>\n",
              "      <th>71</th>\n",
              "      <td>71</td>\n",
              "      <td>22123.333333</td>\n",
              "      <td>21839.959356</td>\n",
              "      <td>24448.0</td>\n",
              "      <td>12500.0</td>\n",
              "    </tr>\n",
              "    <tr>\n",
              "      <th>72</th>\n",
              "      <td>72</td>\n",
              "      <td>27754.444444</td>\n",
              "      <td>27480.974313</td>\n",
              "      <td>31600.0</td>\n",
              "      <td>19000.0</td>\n",
              "    </tr>\n",
              "  </tbody>\n",
              "</table>\n",
              "</div>"
            ],
            "text/plain": [
              "     0   tkararagaci  trastgeleorman     tknn   gercek\n",
              "60  60  90156.250000    97011.350519  95650.0  77750.0\n",
              "61  61  28916.666667    38668.166890  70840.0  47500.0\n",
              "62  62  28916.666667    33091.907893  55290.0  29500.0\n",
              "63  63  28916.666667    38668.166890  67840.0  39750.0\n",
              "64  64  18756.250000    16396.552270  19810.0  23000.0\n",
              "65  65  90156.250000    98896.885440  79970.0  85000.0\n",
              "66  66  10077.571429    14751.661007  18102.4  17500.0\n",
              "67  67  22123.333333    23195.217633  42350.0  18500.0\n",
              "68  68  90156.250000    92131.420562  42350.0  29123.0\n",
              "69  69  22123.333333    20769.873704  18752.4  18000.0\n",
              "70  70  90156.250000    98896.885440  79970.0  85000.0\n",
              "71  71  22123.333333    21839.959356  24448.0  12500.0\n",
              "72  72  27754.444444    27480.974313  31600.0  19000.0"
            ]
          },
          "metadata": {
            "tags": []
          },
          "execution_count": 517
        }
      ]
    },
    {
      "cell_type": "markdown",
      "metadata": {
        "id": "-taXBCRkEgZP"
      },
      "source": [
        "# ***KÜMELEME ALGORİTMASI VE KULLANIMI***"
      ]
    },
    {
      "cell_type": "markdown",
      "metadata": {
        "id": "R2v0re-oEykf"
      },
      "source": [
        "***VERİMUSTAFA'YI KAYDET!!!***"
      ]
    },
    {
      "cell_type": "code",
      "metadata": {
        "id": "xS70Y2Q6EkzY"
      },
      "source": [
        "dosyayedek=open(\"verimustafayedek.pckl\",\"wb\")\n",
        "pickle.dump(verimustafa,dosyayedek)"
      ],
      "execution_count": null,
      "outputs": []
    },
    {
      "cell_type": "markdown",
      "metadata": {
        "id": "BFwvRzXeFILA"
      },
      "source": [
        "***VERİMUSTAFA'YI OKU***"
      ]
    },
    {
      "cell_type": "code",
      "metadata": {
        "id": "flo3_QKjE78l"
      },
      "source": [
        "dosyayedek2=open(\"verimustafayedek.pckl\",\"rb\")\n",
        "verimustafayedek2=pickle.load(dosyayedek2)"
      ],
      "execution_count": null,
      "outputs": []
    },
    {
      "cell_type": "code",
      "metadata": {
        "colab": {
          "base_uri": "https://localhost:8080/"
        },
        "id": "XyzSm5jSGTsU",
        "outputId": "1b3eca2e-ba66-4372-89d1-e1f7dbb9cd53"
      },
      "source": [
        "verimustafayedek2.pop(\"seri\") #string veriyi siliyoruz"
      ],
      "execution_count": null,
      "outputs": [
        {
          "output_type": "execute_result",
          "data": {
            "text/plain": [
              "0     Linea\n",
              "1     Punto\n",
              "2     Linea\n",
              "3     Linea\n",
              "4     Linea\n",
              "      ...  \n",
              "68    Linea\n",
              "69    Marea\n",
              "70     Egea\n",
              "71      Uno\n",
              "72    Palio\n",
              "Name: seri, Length: 73, dtype: object"
            ]
          },
          "metadata": {
            "tags": []
          },
          "execution_count": 520
        }
      ]
    },
    {
      "cell_type": "code",
      "metadata": {
        "colab": {
          "base_uri": "https://localhost:8080/"
        },
        "id": "KrxcmGv1FT-2",
        "outputId": "7190f4fd-c950-4f48-a163-62562fe650b0"
      },
      "source": [
        "k=KMeans(n_clusters=13) #on uc cesit fiat araba markası var, ayırsın diye\n",
        "k.fit_transform(verimustafayedek2)"
      ],
      "execution_count": null,
      "outputs": [
        {
          "output_type": "execute_result",
          "data": {
            "text/plain": [
              "array([[3.00000002e+03, 9.93806667e+04, 6.10000000e+04, 3.18750000e+04,\n",
              "        1.18976167e+05, 8.21400000e+04, 4.15000000e+04, 1.04327778e+05,\n",
              "        4.25833333e+04, 1.60000000e+04, 8.95314167e+04, 8.42500001e+03,\n",
              "        7.42500000e+04],\n",
              "       [5.90000000e+04, 3.73806667e+04, 1.00000002e+03, 3.01250000e+04,\n",
              "        5.69761667e+04, 2.01400000e+04, 1.03500000e+05, 4.23277778e+04,\n",
              "        1.94166667e+04, 4.60000000e+04, 2.75314167e+04, 7.04250000e+04,\n",
              "        1.22500000e+04],\n",
              "       [3.10000000e+04, 6.53806667e+04, 2.70000000e+04, 2.12500011e+03,\n",
              "        8.49761667e+04, 4.81400000e+04, 7.55000000e+04, 7.03277778e+04,\n",
              "        8.58333338e+03, 1.80000000e+04, 5.55314167e+04, 4.24250000e+04,\n",
              "        4.02500000e+04],\n",
              "       [4.15000000e+04, 5.48806667e+04, 1.65000000e+04, 1.26250000e+04,\n",
              "        7.44761667e+04, 3.76400000e+04, 8.60000000e+04, 5.98277778e+04,\n",
              "        1.91666669e+03, 2.85000000e+04, 4.50314167e+04, 5.29250000e+04,\n",
              "        2.97500000e+04],\n",
              "       [2.25000000e+04, 7.38806667e+04, 3.55000000e+04, 6.37500002e+03,\n",
              "        9.34761667e+04, 5.66400000e+04, 6.70000000e+04, 7.88277778e+04,\n",
              "        1.70833334e+04, 9.50000006e+03, 6.40314167e+04, 3.39250000e+04,\n",
              "        4.87500000e+04],\n",
              "       [8.87500000e+04, 7.63066667e+03, 3.07500000e+04, 5.98750000e+04,\n",
              "        2.72261667e+04, 9.61000002e+03, 1.33250000e+05, 1.25777778e+04,\n",
              "        4.91666667e+04, 7.57500000e+04, 2.21858338e+03, 1.00175000e+05,\n",
              "        1.75000000e+04],\n",
              "       [3.00000007e+03, 9.33806667e+04, 5.50000000e+04, 2.58750000e+04,\n",
              "        1.12976167e+05, 7.61400000e+04, 4.75000000e+04, 9.83277778e+04,\n",
              "        3.65833333e+04, 1.00000001e+04, 8.35314167e+04, 1.44250000e+04,\n",
              "        6.82500000e+04],\n",
              "       [8.40000000e+04, 1.23806667e+04, 2.60000000e+04, 5.51250000e+04,\n",
              "        3.19761667e+04, 4.86000002e+03, 1.28500000e+05, 1.73277778e+04,\n",
              "        4.44166667e+04, 7.10000000e+04, 2.53141668e+03, 9.54250000e+04,\n",
              "        1.27500000e+04],\n",
              "       [7.90000001e+03, 1.04280667e+05, 6.59000000e+04, 3.67750000e+04,\n",
              "        1.23876167e+05, 8.70400000e+04, 3.66000000e+04, 1.09227778e+05,\n",
              "        4.74833333e+04, 2.09000000e+04, 9.44314167e+04, 3.52500004e+03,\n",
              "        7.91500000e+04],\n",
              "       [1.00000000e+05, 3.61933336e+03, 4.20000000e+04, 7.11250000e+04,\n",
              "        1.59761667e+04, 2.08600000e+04, 1.44500000e+05, 1.32777793e+03,\n",
              "        6.04166667e+04, 8.70000000e+04, 1.34685833e+04, 1.11425000e+05,\n",
              "        2.87500000e+04],\n",
              "       [8.00100000e+04, 1.63706667e+04, 2.20100000e+04, 5.11350000e+04,\n",
              "        3.59661667e+04, 8.70000289e+02, 1.24510000e+05, 2.13177778e+04,\n",
              "        4.04266667e+04, 6.70100000e+04, 6.52141673e+03, 9.14350000e+04,\n",
              "        8.76000006e+03],\n",
              "       [1.00250000e+05, 3.86933334e+03, 4.22500000e+04, 7.13750000e+04,\n",
              "        1.57261667e+04, 2.11100000e+04, 1.44750000e+05, 1.07777796e+03,\n",
              "        6.06666667e+04, 8.72500000e+04, 1.37185833e+04, 1.11675000e+05,\n",
              "        2.90000000e+04],\n",
              "       [3.65000000e+04, 5.98806667e+04, 2.15000000e+04, 7.62500002e+03,\n",
              "        7.94761667e+04, 4.26400000e+04, 8.10000000e+04, 6.48277778e+04,\n",
              "        3.08333346e+03, 2.35000000e+04, 5.00314167e+04, 4.79250000e+04,\n",
              "        3.47500000e+04],\n",
              "       [7.80000000e+04, 1.83806667e+04, 2.00000000e+04, 4.91250000e+04,\n",
              "        3.79761667e+04, 1.14000022e+03, 1.22500000e+05, 2.33277778e+04,\n",
              "        3.84166667e+04, 6.50000000e+04, 8.53141672e+03, 8.94250000e+04,\n",
              "        6.75000007e+03],\n",
              "       [1.15988000e+05, 1.96073333e+04, 5.79880000e+04, 8.71130000e+04,\n",
              "        1.18421924e+01, 3.68480000e+04, 1.60488000e+05, 1.46602222e+04,\n",
              "        7.64046667e+04, 1.02988000e+05, 2.94565833e+04, 1.27413000e+05,\n",
              "        4.47380000e+04],\n",
              "       [7.82500000e+04, 1.81306667e+04, 2.02500000e+04, 4.93750000e+04,\n",
              "        3.77261667e+04, 8.90000259e+02, 1.22750000e+05, 2.30777778e+04,\n",
              "        3.86666667e+04, 6.52500000e+04, 8.28141671e+03, 8.96750000e+04,\n",
              "        7.00000008e+03],\n",
              "       [7.92500000e+04, 1.71306667e+04, 2.12500000e+04, 5.03750000e+04,\n",
              "        3.67261667e+04, 1.10000570e+02, 1.23750000e+05, 2.20777778e+04,\n",
              "        3.96666667e+04, 6.62500000e+04, 7.28141667e+03, 9.06750000e+04,\n",
              "        8.00000000e+03],\n",
              "       [8.20000000e+04, 1.43806667e+04, 2.40000000e+04, 5.31250000e+04,\n",
              "        3.39761667e+04, 2.86000003e+03, 1.26500000e+05, 1.93277778e+04,\n",
              "        4.24166667e+04, 6.90000000e+04, 4.53141668e+03, 9.34250000e+04,\n",
              "        1.07500000e+04],\n",
              "       [1.16000000e+05, 1.96193334e+04, 5.80000000e+04, 8.71250000e+04,\n",
              "        2.38461308e+01, 3.68600000e+04, 1.60500000e+05, 1.46722222e+04,\n",
              "        7.64166667e+04, 1.03000000e+05, 2.94685834e+04, 1.27425000e+05,\n",
              "        4.47500000e+04],\n",
              "       [1.01000000e+05, 4.61933334e+03, 4.30000000e+04, 7.21250000e+04,\n",
              "        1.49761667e+04, 2.18600000e+04, 1.45500000e+05, 3.27778270e+02,\n",
              "        6.14166667e+04, 8.80000000e+04, 1.44685833e+04, 1.12425000e+05,\n",
              "        2.97500000e+04],\n",
              "       [1.15985000e+05, 1.96043333e+04, 5.79850000e+04, 8.71100000e+04,\n",
              "        8.85006625e+00, 3.68450000e+04, 1.60485000e+05, 1.46572222e+04,\n",
              "        7.64016667e+04, 1.02985000e+05, 2.94535833e+04, 1.27410000e+05,\n",
              "        4.47350000e+04],\n",
              "       [1.02200000e+05, 5.81933335e+03, 4.42000000e+04, 7.33250000e+04,\n",
              "        1.37761667e+04, 2.30600000e+04, 1.46700000e+05, 8.72222454e+02,\n",
              "        6.26166667e+04, 8.92000000e+04, 1.56685833e+04, 1.13625000e+05,\n",
              "        3.09500000e+04],\n",
              "       [8.40000000e+04, 1.23806667e+04, 2.60000000e+04, 5.51250000e+04,\n",
              "        3.19761667e+04, 4.86000001e+03, 1.28500000e+05, 1.73277778e+04,\n",
              "        4.44166667e+04, 7.10000000e+04, 2.53141667e+03, 9.54250000e+04,\n",
              "        1.27500000e+04],\n",
              "       [9.67000000e+04, 3.19333515e+02, 3.87000000e+04, 6.78250000e+04,\n",
              "        1.92761667e+04, 1.75600000e+04, 1.41200000e+05, 4.62777783e+03,\n",
              "        5.71166667e+04, 8.37000000e+04, 1.01685833e+04, 1.08125000e+05,\n",
              "        2.54500000e+04],\n",
              "       [8.95000000e+04, 6.88066667e+03, 3.15000000e+04, 6.06250000e+04,\n",
              "        2.64761667e+04, 1.03600000e+04, 1.34000000e+05, 1.18277778e+04,\n",
              "        4.99166667e+04, 7.65000000e+04, 2.96858334e+03, 1.00925000e+05,\n",
              "        1.82500000e+04],\n",
              "       [1.15900000e+05, 1.95193334e+04, 5.79000000e+04, 8.70250000e+04,\n",
              "        7.61711315e+01, 3.67600000e+04, 1.60400000e+05, 1.45722222e+04,\n",
              "        7.63166667e+04, 1.02900000e+05, 2.93685834e+04, 1.27325000e+05,\n",
              "        4.46500000e+04],\n",
              "       [9.35000000e+04, 2.88066668e+03, 3.55000000e+04, 6.46250000e+04,\n",
              "        2.24761667e+04, 1.43600000e+04, 1.38000000e+05, 7.82777781e+03,\n",
              "        5.39166667e+04, 8.05000000e+04, 6.96858334e+03, 1.04925000e+05,\n",
              "        2.22500000e+04],\n",
              "       [9.57500000e+04, 6.30666697e+02, 3.77500000e+04, 6.68750000e+04,\n",
              "        2.02261667e+04, 1.66100000e+04, 1.40250000e+05, 5.57777781e+03,\n",
              "        5.61666667e+04, 8.27500000e+04, 9.21858334e+03, 1.07175000e+05,\n",
              "        2.45000000e+04],\n",
              "       [8.90000000e+04, 7.38066668e+03, 3.10000000e+04, 6.01250000e+04,\n",
              "        2.69761667e+04, 9.86000001e+03, 1.33500000e+05, 1.23277778e+04,\n",
              "        4.94166667e+04, 7.60000000e+04, 2.46858335e+03, 1.00425000e+05,\n",
              "        1.77500000e+04],\n",
              "       [9.60100000e+04, 3.70666694e+02, 3.80100000e+04, 6.71350000e+04,\n",
              "        1.99661667e+04, 1.68700000e+04, 1.40510000e+05, 5.31777781e+03,\n",
              "        5.64266667e+04, 8.30100000e+04, 9.47858334e+03, 1.07435000e+05,\n",
              "        2.47600000e+04],\n",
              "       [3.51551649e-01, 9.63806667e+04, 5.80000000e+04, 2.88750000e+04,\n",
              "        1.15976167e+05, 7.91400000e+04, 4.45000000e+04, 1.01327778e+05,\n",
              "        3.95833333e+04, 1.30000000e+04, 8.65314167e+04, 1.14250000e+04,\n",
              "        7.12500000e+04],\n",
              "       [7.80000000e+04, 1.83806667e+04, 2.00000000e+04, 4.91250000e+04,\n",
              "        3.79761667e+04, 1.14000017e+03, 1.22500000e+05, 2.33277778e+04,\n",
              "        3.84166667e+04, 6.50000000e+04, 8.53141667e+03, 8.94250000e+04,\n",
              "        6.75000005e+03],\n",
              "       [1.49500000e+04, 1.11330667e+05, 7.29500000e+04, 4.38250000e+04,\n",
              "        1.30926167e+05, 9.40900000e+04, 2.95500000e+04, 1.16277778e+05,\n",
              "        5.45333333e+04, 2.79500000e+04, 1.01481417e+05, 3.52500004e+03,\n",
              "        8.62000000e+04],\n",
              "       [8.50000000e+04, 1.13806667e+04, 2.70000000e+04, 5.61250000e+04,\n",
              "        3.09761667e+04, 5.86000003e+03, 1.29500000e+05, 1.63277778e+04,\n",
              "        4.54166667e+04, 7.20000000e+04, 1.53141674e+03, 9.64250000e+04,\n",
              "        1.37500000e+04],\n",
              "       [8.05000000e+04, 1.58806667e+04, 2.25000000e+04, 5.16250000e+04,\n",
              "        3.54761667e+04, 1.36000010e+03, 1.25000000e+05, 2.08277778e+04,\n",
              "        4.09166667e+04, 6.75000000e+04, 6.03141667e+03, 9.19250000e+04,\n",
              "        9.25000002e+03],\n",
              "       [9.70000000e+04, 6.19333439e+02, 3.90000000e+04, 6.81250000e+04,\n",
              "        1.89761667e+04, 1.78600000e+04, 1.41500000e+05, 4.32777783e+03,\n",
              "        5.74166667e+04, 8.40000000e+04, 1.04685833e+04, 1.08425000e+05,\n",
              "        2.57500000e+04],\n",
              "       [9.70000000e+04, 6.19333352e+02, 3.90000000e+04, 6.81250000e+04,\n",
              "        1.89761667e+04, 1.78600000e+04, 1.41500000e+05, 4.32777782e+03,\n",
              "        5.74166667e+04, 8.40000000e+04, 1.04685833e+04, 1.08425000e+05,\n",
              "        2.57500000e+04],\n",
              "       [9.70000000e+04, 6.19333352e+02, 3.90000000e+04, 6.81250000e+04,\n",
              "        1.89761667e+04, 1.78600000e+04, 1.41500000e+05, 4.32777782e+03,\n",
              "        5.74166667e+04, 8.40000000e+04, 1.04685833e+04, 1.08425000e+05,\n",
              "        2.57500000e+04],\n",
              "       [9.80000000e+04, 1.61933339e+03, 4.00000000e+04, 6.91250000e+04,\n",
              "        1.79761667e+04, 1.88600000e+04, 1.42500000e+05, 3.32777784e+03,\n",
              "        5.84166667e+04, 8.50000000e+04, 1.14685833e+04, 1.09425000e+05,\n",
              "        2.67500000e+04],\n",
              "       [1.15984000e+05, 1.96033333e+04, 5.79840000e+04, 8.71090000e+04,\n",
              "        7.84557814e+00, 3.68440000e+04, 1.60484000e+05, 1.46562222e+04,\n",
              "        7.64006667e+04, 1.02984000e+05, 2.94525833e+04, 1.27409000e+05,\n",
              "        4.47340000e+04],\n",
              "       [1.01000000e+05, 4.61933344e+03, 4.30000000e+04, 7.21250000e+04,\n",
              "        1.49761667e+04, 2.18600000e+04, 1.45500000e+05, 3.27778242e+02,\n",
              "        6.14166667e+04, 8.80000000e+04, 1.44685834e+04, 1.12425000e+05,\n",
              "        2.97500000e+04],\n",
              "       [1.30000000e+04, 8.33806667e+04, 4.50000000e+04, 1.58750000e+04,\n",
              "        1.02976167e+05, 6.61400000e+04, 5.75000000e+04, 8.83277778e+04,\n",
              "        2.65833333e+04, 0.00000000e+00, 7.35314167e+04, 2.44250000e+04,\n",
              "        5.82500000e+04],\n",
              "       [9.50000000e+04, 1.38066700e+03, 3.70000000e+04, 6.61250000e+04,\n",
              "        2.09761667e+04, 1.58600000e+04, 1.39500000e+05, 6.32777780e+03,\n",
              "        5.54166667e+04, 8.20000000e+04, 8.46858339e+03, 1.06425000e+05,\n",
              "        2.37500000e+04],\n",
              "       [8.40000000e+04, 1.23806667e+04, 2.60000000e+04, 5.51250000e+04,\n",
              "        3.19761667e+04, 4.86000006e+03, 1.28500000e+05, 1.73277778e+04,\n",
              "        4.44166667e+04, 7.10000000e+04, 2.53141686e+03, 9.54250000e+04,\n",
              "        1.27500000e+04],\n",
              "       [5.70000000e+04, 3.93806667e+04, 1.00000002e+03, 2.81250000e+04,\n",
              "        5.89761667e+04, 2.21400000e+04, 1.01500000e+05, 4.43277778e+04,\n",
              "        1.74166667e+04, 4.40000000e+04, 2.95314167e+04, 6.84250000e+04,\n",
              "        1.42500000e+04],\n",
              "       [8.00000000e+04, 1.63806667e+04, 2.20000000e+04, 5.11250000e+04,\n",
              "        3.59761667e+04, 8.60000114e+02, 1.24500000e+05, 2.13277778e+04,\n",
              "        4.04166667e+04, 6.70000000e+04, 6.53141669e+03, 9.14250000e+04,\n",
              "        8.75000000e+03],\n",
              "       [9.57500000e+04, 6.30666778e+02, 3.77500000e+04, 6.68750000e+04,\n",
              "        2.02261667e+04, 1.66100000e+04, 1.40250000e+05, 5.57777781e+03,\n",
              "        5.61666667e+04, 8.27500000e+04, 9.21858335e+03, 1.07175000e+05,\n",
              "        2.45000000e+04],\n",
              "       [1.01000000e+05, 4.61933344e+03, 4.30000000e+04, 7.21250000e+04,\n",
              "        1.49761667e+04, 2.18600000e+04, 1.45500000e+05, 3.27778242e+02,\n",
              "        6.14166667e+04, 8.80000000e+04, 1.44685834e+04, 1.12425000e+05,\n",
              "        2.97500000e+04],\n",
              "       [1.30000000e+04, 8.33806667e+04, 4.50000000e+04, 1.58750000e+04,\n",
              "        1.02976167e+05, 6.61400000e+04, 5.75000000e+04, 8.83277778e+04,\n",
              "        2.65833333e+04, 0.00000000e+00, 7.35314167e+04, 2.44250000e+04,\n",
              "        5.82500000e+04],\n",
              "       [1.16000000e+05, 1.96193333e+04, 5.80000000e+04, 8.71250000e+04,\n",
              "        2.38383359e+01, 3.68600000e+04, 1.60500000e+05, 1.46722222e+04,\n",
              "        7.64166667e+04, 1.03000000e+05, 2.94685833e+04, 1.27425000e+05,\n",
              "        4.47500000e+04],\n",
              "       [3.75000000e+04, 5.88806667e+04, 2.05000000e+04, 8.62500002e+03,\n",
              "        7.84761667e+04, 4.16400000e+04, 8.20000000e+04, 6.38277778e+04,\n",
              "        2.08333335e+03, 2.45000000e+04, 4.90314167e+04, 4.89250000e+04,\n",
              "        3.37500000e+04],\n",
              "       [8.52500000e+04, 1.11306667e+04, 2.72500000e+04, 5.63750000e+04,\n",
              "        3.07261667e+04, 6.11000001e+03, 1.29750000e+05, 1.60777778e+04,\n",
              "        4.56666667e+04, 7.22500000e+04, 1.28141669e+03, 9.66750000e+04,\n",
              "        1.40000000e+04],\n",
              "       [8.62500000e+04, 1.01306667e+04, 2.82500000e+04, 5.73750000e+04,\n",
              "        2.97261667e+04, 7.11000001e+03, 1.30750000e+05, 1.50777778e+04,\n",
              "        4.66666667e+04, 7.32500000e+04, 2.81416728e+02, 9.76750000e+04,\n",
              "        1.50000000e+04],\n",
              "       [4.45000000e+04, 1.40880667e+05, 1.02500000e+05, 7.33750000e+04,\n",
              "        1.60476167e+05, 1.23640000e+05, 0.00000000e+00, 1.45827778e+05,\n",
              "        8.40833333e+04, 5.75000000e+04, 1.31031417e+05, 3.30750000e+04,\n",
              "        1.15750000e+05],\n",
              "       [4.55000000e+04, 5.08806667e+04, 1.25000000e+04, 1.66250000e+04,\n",
              "        7.04761667e+04, 3.36400000e+04, 9.00000000e+04, 5.58277778e+04,\n",
              "        5.91666667e+03, 3.25000000e+04, 4.10314167e+04, 5.69250000e+04,\n",
              "        2.57500000e+04],\n",
              "       [7.40000000e+04, 2.23806667e+04, 1.60000000e+04, 4.51250000e+04,\n",
              "        4.19761667e+04, 5.14000002e+03, 1.18500000e+05, 2.73277778e+04,\n",
              "        3.44166667e+04, 6.10000000e+04, 1.25314167e+04, 8.54250000e+04,\n",
              "        2.75000000e+03],\n",
              "       [1.03500000e+05, 7.11933339e+03, 4.55000000e+04, 7.46250000e+04,\n",
              "        1.24761667e+04, 2.43600000e+04, 1.48000000e+05, 2.17222229e+03,\n",
              "        6.39166667e+04, 9.05000000e+04, 1.69685834e+04, 1.14925000e+05,\n",
              "        3.22500000e+04],\n",
              "       [9.95000000e+04, 3.11933348e+03, 4.15000000e+04, 7.06250000e+04,\n",
              "        1.64761667e+04, 2.03600000e+04, 1.44000000e+05, 1.82777791e+03,\n",
              "        5.99166667e+04, 8.65000000e+04, 1.29685834e+04, 1.10925000e+05,\n",
              "        2.82500000e+04],\n",
              "       [3.82500000e+04, 5.81306667e+04, 1.97500000e+04, 9.37500001e+03,\n",
              "        7.77261667e+04, 4.08900000e+04, 8.27500000e+04, 6.30777778e+04,\n",
              "        1.33333336e+03, 2.52500000e+04, 4.82814167e+04, 4.96750000e+04,\n",
              "        3.30000000e+04],\n",
              "       [8.92500000e+04, 7.13066669e+03, 3.12500000e+04, 6.03750000e+04,\n",
              "        2.67261667e+04, 1.01100000e+04, 1.33750000e+05, 1.20777778e+04,\n",
              "        4.96666667e+04, 7.62500000e+04, 2.71858337e+03, 1.00675000e+05,\n",
              "        1.80000000e+04],\n",
              "       [3.82500000e+04, 5.81306667e+04, 1.97500000e+04, 9.37500002e+03,\n",
              "        7.77261667e+04, 4.08900000e+04, 8.27500000e+04, 6.30777778e+04,\n",
              "        1.33333338e+03, 2.52500000e+04, 4.82814167e+04, 4.96750000e+04,\n",
              "        3.30000000e+04],\n",
              "       [6.85000000e+04, 2.78806667e+04, 1.05000000e+04, 3.96250000e+04,\n",
              "        4.74761667e+04, 1.06400000e+04, 1.13000000e+05, 3.28277778e+04,\n",
              "        2.89166667e+04, 5.55000000e+04, 1.80314167e+04, 7.99250000e+04,\n",
              "        2.75000000e+03],\n",
              "       [8.65000000e+04, 9.88066668e+03, 2.85000000e+04, 5.76250000e+04,\n",
              "        2.94761667e+04, 7.36000001e+03, 1.31000000e+05, 1.48277778e+04,\n",
              "        4.69166667e+04, 7.35000000e+04, 3.14190890e+01, 9.79250000e+04,\n",
              "        1.52500000e+04],\n",
              "       [7.62500000e+04, 2.01306667e+04, 1.82500000e+04, 4.73750000e+04,\n",
              "        3.97261667e+04, 2.89000003e+03, 1.20750000e+05, 2.50777778e+04,\n",
              "        3.66666667e+04, 6.32500000e+04, 1.02814167e+04, 8.76750000e+04,\n",
              "        5.00000000e+03],\n",
              "       [9.30000000e+04, 3.38066669e+03, 3.50000000e+04, 6.41250000e+04,\n",
              "        2.29761667e+04, 1.38600000e+04, 1.37500000e+05, 8.32777780e+03,\n",
              "        5.34166667e+04, 8.00000000e+04, 6.46858336e+03, 1.04425000e+05,\n",
              "        2.17500000e+04],\n",
              "       [3.10000000e+04, 6.53806667e+04, 2.70000000e+04, 2.12500008e+03,\n",
              "        8.49761667e+04, 4.81400000e+04, 7.55000000e+04, 7.03277778e+04,\n",
              "        8.58333334e+03, 1.80000000e+04, 5.55314167e+04, 4.24250000e+04,\n",
              "        4.02500000e+04],\n",
              "       [9.85000000e+04, 2.11933335e+03, 4.05000000e+04, 6.96250000e+04,\n",
              "        1.74761667e+04, 1.93600000e+04, 1.43000000e+05, 2.82777784e+03,\n",
              "        5.89166667e+04, 8.55000000e+04, 1.19685833e+04, 1.09925000e+05,\n",
              "        2.72500000e+04],\n",
              "       [9.75000000e+04, 1.11933370e+03, 3.95000000e+04, 6.86250000e+04,\n",
              "        1.84761667e+04, 1.83600000e+04, 1.42000000e+05, 3.82777782e+03,\n",
              "        5.79166667e+04, 8.45000000e+04, 1.09685834e+04, 1.08925000e+05,\n",
              "        2.62500000e+04],\n",
              "       [8.68770000e+04, 9.50366674e+03, 2.88770000e+04, 5.80020000e+04,\n",
              "        2.90991667e+04, 7.73700006e+03, 1.31377000e+05, 1.44507778e+04,\n",
              "        4.72936667e+04, 7.38770000e+04, 3.45584894e+02, 9.83020000e+04,\n",
              "        1.56270001e+04],\n",
              "       [9.80000000e+04, 1.61933335e+03, 4.00000000e+04, 6.91250000e+04,\n",
              "        1.79761667e+04, 1.88600000e+04, 1.42500000e+05, 3.32777783e+03,\n",
              "        5.84166667e+04, 8.50000000e+04, 1.14685833e+04, 1.09425000e+05,\n",
              "        2.67500000e+04],\n",
              "       [3.10000000e+04, 6.53806667e+04, 2.70000000e+04, 2.12500008e+03,\n",
              "        8.49761667e+04, 4.81400000e+04, 7.55000000e+04, 7.03277778e+04,\n",
              "        8.58333334e+03, 1.80000000e+04, 5.55314167e+04, 4.24250000e+04,\n",
              "        4.02500000e+04],\n",
              "       [1.03500000e+05, 7.11933339e+03, 4.55000000e+04, 7.46250000e+04,\n",
              "        1.24761667e+04, 2.43600000e+04, 1.48000000e+05, 2.17222227e+03,\n",
              "        6.39166667e+04, 9.05000000e+04, 1.69685834e+04, 1.14925000e+05,\n",
              "        3.22500000e+04],\n",
              "       [9.70000000e+04, 6.19333388e+02, 3.90000000e+04, 6.81250000e+04,\n",
              "        1.89761667e+04, 1.78600000e+04, 1.41500000e+05, 4.32777782e+03,\n",
              "        5.74166667e+04, 8.40000000e+04, 1.04685833e+04, 1.08425000e+05,\n",
              "        2.57500000e+04]])"
            ]
          },
          "metadata": {
            "tags": []
          },
          "execution_count": 521
        }
      ]
    },
    {
      "cell_type": "code",
      "metadata": {
        "id": "Oo8cuVfbGj1u"
      },
      "source": [
        "sonuclaryedek=k.transform(verimustafayedek2.values)"
      ],
      "execution_count": null,
      "outputs": []
    },
    {
      "cell_type": "code",
      "metadata": {
        "colab": {
          "base_uri": "https://localhost:8080/"
        },
        "id": "vdw5xQ3xGzfM",
        "outputId": "2b995b87-69dc-4f20-e816-29c45e6a7b92"
      },
      "source": [
        "k.labels_"
      ],
      "execution_count": null,
      "outputs": [
        {
          "output_type": "execute_result",
          "data": {
            "text/plain": [
              "array([ 0,  2,  3,  8,  3, 10,  0, 10, 11,  7,  5,  7,  8,  5,  4,  5,  5,\n",
              "        5,  4,  7,  4,  7, 10,  1, 10,  4,  1,  1, 10,  1,  0,  5, 11, 10,\n",
              "        5,  1,  1,  1,  1,  4,  7,  9,  1, 10,  2,  5,  1,  7,  9,  4,  8,\n",
              "       10, 10,  6,  8, 12,  7,  7,  8, 10,  8, 12, 10,  5,  1,  3,  1,  1,\n",
              "       10,  1,  3,  7,  1], dtype=int32)"
            ]
          },
          "metadata": {
            "tags": []
          },
          "execution_count": 523
        }
      ]
    },
    {
      "cell_type": "code",
      "metadata": {
        "id": "9TrF8QkEHpMd"
      },
      "source": [
        "verimustafayedek2=pd.concat([verimustafayedek2,pd.DataFrame(k.labels_,columns=[\"KümeNo\"])], axis=1)"
      ],
      "execution_count": null,
      "outputs": []
    },
    {
      "cell_type": "code",
      "metadata": {
        "colab": {
          "base_uri": "https://localhost:8080/",
          "height": 419
        },
        "id": "g9PX_14cIe0E",
        "outputId": "f3a6030d-0657-48e9-e386-6128a852e6ce"
      },
      "source": [
        "verimustafayedek2"
      ],
      "execution_count": null,
      "outputs": [
        {
          "output_type": "execute_result",
          "data": {
            "text/html": [
              "<div>\n",
              "<style scoped>\n",
              "    .dataframe tbody tr th:only-of-type {\n",
              "        vertical-align: middle;\n",
              "    }\n",
              "\n",
              "    .dataframe tbody tr th {\n",
              "        vertical-align: top;\n",
              "    }\n",
              "\n",
              "    .dataframe thead th {\n",
              "        text-align: right;\n",
              "    }\n",
              "</style>\n",
              "<table border=\"1\" class=\"dataframe\">\n",
              "  <thead>\n",
              "    <tr style=\"text-align: right;\">\n",
              "      <th></th>\n",
              "      <th>model_yili</th>\n",
              "      <th>km</th>\n",
              "      <th>renk</th>\n",
              "      <th>fiyat</th>\n",
              "      <th>KümeNo</th>\n",
              "    </tr>\n",
              "  </thead>\n",
              "  <tbody>\n",
              "    <tr>\n",
              "      <th>0</th>\n",
              "      <td>0.884615</td>\n",
              "      <td>0.194617</td>\n",
              "      <td>1</td>\n",
              "      <td>119000</td>\n",
              "      <td>0</td>\n",
              "    </tr>\n",
              "    <tr>\n",
              "      <th>1</th>\n",
              "      <td>0.500000</td>\n",
              "      <td>0.688239</td>\n",
              "      <td>0</td>\n",
              "      <td>57000</td>\n",
              "      <td>2</td>\n",
              "    </tr>\n",
              "    <tr>\n",
              "      <th>2</th>\n",
              "      <td>0.653846</td>\n",
              "      <td>0.675249</td>\n",
              "      <td>0</td>\n",
              "      <td>85000</td>\n",
              "      <td>3</td>\n",
              "    </tr>\n",
              "    <tr>\n",
              "      <th>3</th>\n",
              "      <td>0.692308</td>\n",
              "      <td>0.577823</td>\n",
              "      <td>1</td>\n",
              "      <td>74500</td>\n",
              "      <td>8</td>\n",
              "    </tr>\n",
              "    <tr>\n",
              "      <th>4</th>\n",
              "      <td>0.769231</td>\n",
              "      <td>0.314125</td>\n",
              "      <td>0</td>\n",
              "      <td>93500</td>\n",
              "      <td>3</td>\n",
              "    </tr>\n",
              "    <tr>\n",
              "      <th>...</th>\n",
              "      <td>...</td>\n",
              "      <td>...</td>\n",
              "      <td>...</td>\n",
              "      <td>...</td>\n",
              "      <td>...</td>\n",
              "    </tr>\n",
              "    <tr>\n",
              "      <th>68</th>\n",
              "      <td>0.769231</td>\n",
              "      <td>1.000000</td>\n",
              "      <td>1</td>\n",
              "      <td>29123</td>\n",
              "      <td>10</td>\n",
              "    </tr>\n",
              "    <tr>\n",
              "      <th>69</th>\n",
              "      <td>0.230769</td>\n",
              "      <td>0.543789</td>\n",
              "      <td>0</td>\n",
              "      <td>18000</td>\n",
              "      <td>1</td>\n",
              "    </tr>\n",
              "    <tr>\n",
              "      <th>70</th>\n",
              "      <td>0.961538</td>\n",
              "      <td>0.004962</td>\n",
              "      <td>1</td>\n",
              "      <td>85000</td>\n",
              "      <td>3</td>\n",
              "    </tr>\n",
              "    <tr>\n",
              "      <th>71</th>\n",
              "      <td>0.230769</td>\n",
              "      <td>0.389468</td>\n",
              "      <td>1</td>\n",
              "      <td>12500</td>\n",
              "      <td>7</td>\n",
              "    </tr>\n",
              "    <tr>\n",
              "      <th>72</th>\n",
              "      <td>0.423077</td>\n",
              "      <td>0.264763</td>\n",
              "      <td>0</td>\n",
              "      <td>19000</td>\n",
              "      <td>1</td>\n",
              "    </tr>\n",
              "  </tbody>\n",
              "</table>\n",
              "<p>73 rows × 5 columns</p>\n",
              "</div>"
            ],
            "text/plain": [
              "    model_yili        km  renk   fiyat  KümeNo\n",
              "0     0.884615  0.194617     1  119000       0\n",
              "1     0.500000  0.688239     0   57000       2\n",
              "2     0.653846  0.675249     0   85000       3\n",
              "3     0.692308  0.577823     1   74500       8\n",
              "4     0.769231  0.314125     0   93500       3\n",
              "..         ...       ...   ...     ...     ...\n",
              "68    0.769231  1.000000     1   29123      10\n",
              "69    0.230769  0.543789     0   18000       1\n",
              "70    0.961538  0.004962     1   85000       3\n",
              "71    0.230769  0.389468     1   12500       7\n",
              "72    0.423077  0.264763     0   19000       1\n",
              "\n",
              "[73 rows x 5 columns]"
            ]
          },
          "metadata": {
            "tags": []
          },
          "execution_count": 525
        }
      ]
    },
    {
      "cell_type": "code",
      "metadata": {
        "id": "Yka1AXFTOIZZ"
      },
      "source": [
        "#adjusted_rand_score(verimustafayedek2[\"KümeNo\"],k.labels_) #yuzde kac basarısı var ona bakıyor"
      ],
      "execution_count": null,
      "outputs": []
    },
    {
      "cell_type": "code",
      "metadata": {
        "colab": {
          "base_uri": "https://localhost:8080/"
        },
        "id": "TpLJLG-FTMWt",
        "outputId": "266d46dd-1c64-4da1-8f4c-808c91471ef2"
      },
      "source": [
        "ak=AgglomerativeClustering(n_clusters=13,linkage=\"complete\",affinity=\"manhattan\")\n",
        "ak.fit(verimustafayedek2)"
      ],
      "execution_count": null,
      "outputs": [
        {
          "output_type": "execute_result",
          "data": {
            "text/plain": [
              "AgglomerativeClustering(affinity='manhattan', compute_full_tree='auto',\n",
              "                        connectivity=None, distance_threshold=None,\n",
              "                        linkage='complete', memory=None, n_clusters=13)"
            ]
          },
          "metadata": {
            "tags": []
          },
          "execution_count": 526
        }
      ]
    },
    {
      "cell_type": "code",
      "metadata": {
        "colab": {
          "base_uri": "https://localhost:8080/"
        },
        "id": "bJdqvbmOTpZP",
        "outputId": "f3680ee8-9c6e-4d5d-d28c-7dfa67d4355e"
      },
      "source": [
        "ak.labels_"
      ],
      "execution_count": null,
      "outputs": [
        {
          "output_type": "execute_result",
          "data": {
            "text/plain": [
              "array([ 3,  8,  2, 10,  0,  4,  3,  4,  5,  6,  1,  6,  2,  1,  7,  1,  1,\n",
              "        1,  7,  6,  7,  6,  4,  6,  4,  7, 12, 12,  4, 12,  3,  1,  5,  4,\n",
              "        1,  6,  6,  6,  6,  7,  6,  0, 12,  4,  8,  1, 12,  6,  0,  7,  2,\n",
              "        4,  4,  9, 10,  1,  6,  6,  2,  4,  2, 11,  4,  1, 12,  2,  6,  6,\n",
              "        4,  6,  2,  6,  6])"
            ]
          },
          "metadata": {
            "tags": []
          },
          "execution_count": 527
        }
      ]
    },
    {
      "cell_type": "code",
      "metadata": {
        "id": "J4BDrAhPUESO"
      },
      "source": [
        "#kume no yazan yere aslında target yazılır. fakat bizde onceden belirli veri olmadıgı için deneme amacli yapıyoruz\n",
        "#adjusted_rand_score(verimustafayedek2[\"KümeNo\"],k.labels_) #yuzde kac basarısı var ona bakıyor"
      ],
      "execution_count": null,
      "outputs": []
    },
    {
      "cell_type": "markdown",
      "metadata": {
        "id": "lP2pNvJlaWNi"
      },
      "source": [
        "# ***SINIFLANDIRMA İŞLEMLERİ***"
      ]
    },
    {
      "cell_type": "code",
      "metadata": {
        "id": "An54afiyxiFB"
      },
      "source": [
        "for i in verimustafayedek2.columns[:-1]:\n",
        "  verimustafayedek2[i]=MinMaxScaler().fit_transform(verimustafayedek2[i].values.reshape(-1,1))"
      ],
      "execution_count": null,
      "outputs": []
    },
    {
      "cell_type": "code",
      "metadata": {
        "colab": {
          "base_uri": "https://localhost:8080/",
          "height": 419
        },
        "id": "ccWyMSth0YcJ",
        "outputId": "d7623430-0ff0-440b-e6cf-a330a82a2e47"
      },
      "source": [
        "verimustafayedek2"
      ],
      "execution_count": null,
      "outputs": [
        {
          "output_type": "execute_result",
          "data": {
            "text/html": [
              "<div>\n",
              "<style scoped>\n",
              "    .dataframe tbody tr th:only-of-type {\n",
              "        vertical-align: middle;\n",
              "    }\n",
              "\n",
              "    .dataframe tbody tr th {\n",
              "        vertical-align: top;\n",
              "    }\n",
              "\n",
              "    .dataframe thead th {\n",
              "        text-align: right;\n",
              "    }\n",
              "</style>\n",
              "<table border=\"1\" class=\"dataframe\">\n",
              "  <thead>\n",
              "    <tr style=\"text-align: right;\">\n",
              "      <th></th>\n",
              "      <th>model_yili</th>\n",
              "      <th>km</th>\n",
              "      <th>renk</th>\n",
              "      <th>fiyat</th>\n",
              "      <th>KümeNo</th>\n",
              "    </tr>\n",
              "  </thead>\n",
              "  <tbody>\n",
              "    <tr>\n",
              "      <th>0</th>\n",
              "      <td>0.884615</td>\n",
              "      <td>0.194617</td>\n",
              "      <td>1.0</td>\n",
              "      <td>0.741433</td>\n",
              "      <td>0</td>\n",
              "    </tr>\n",
              "    <tr>\n",
              "      <th>1</th>\n",
              "      <td>0.500000</td>\n",
              "      <td>0.688239</td>\n",
              "      <td>0.0</td>\n",
              "      <td>0.355140</td>\n",
              "      <td>2</td>\n",
              "    </tr>\n",
              "    <tr>\n",
              "      <th>2</th>\n",
              "      <td>0.653846</td>\n",
              "      <td>0.675249</td>\n",
              "      <td>0.0</td>\n",
              "      <td>0.529595</td>\n",
              "      <td>3</td>\n",
              "    </tr>\n",
              "    <tr>\n",
              "      <th>3</th>\n",
              "      <td>0.692308</td>\n",
              "      <td>0.577823</td>\n",
              "      <td>1.0</td>\n",
              "      <td>0.464174</td>\n",
              "      <td>8</td>\n",
              "    </tr>\n",
              "    <tr>\n",
              "      <th>4</th>\n",
              "      <td>0.769231</td>\n",
              "      <td>0.314125</td>\n",
              "      <td>0.0</td>\n",
              "      <td>0.582555</td>\n",
              "      <td>3</td>\n",
              "    </tr>\n",
              "    <tr>\n",
              "      <th>...</th>\n",
              "      <td>...</td>\n",
              "      <td>...</td>\n",
              "      <td>...</td>\n",
              "      <td>...</td>\n",
              "      <td>...</td>\n",
              "    </tr>\n",
              "    <tr>\n",
              "      <th>68</th>\n",
              "      <td>0.769231</td>\n",
              "      <td>1.000000</td>\n",
              "      <td>1.0</td>\n",
              "      <td>0.181452</td>\n",
              "      <td>10</td>\n",
              "    </tr>\n",
              "    <tr>\n",
              "      <th>69</th>\n",
              "      <td>0.230769</td>\n",
              "      <td>0.543789</td>\n",
              "      <td>0.0</td>\n",
              "      <td>0.112150</td>\n",
              "      <td>1</td>\n",
              "    </tr>\n",
              "    <tr>\n",
              "      <th>70</th>\n",
              "      <td>0.961538</td>\n",
              "      <td>0.004962</td>\n",
              "      <td>1.0</td>\n",
              "      <td>0.529595</td>\n",
              "      <td>3</td>\n",
              "    </tr>\n",
              "    <tr>\n",
              "      <th>71</th>\n",
              "      <td>0.230769</td>\n",
              "      <td>0.389468</td>\n",
              "      <td>1.0</td>\n",
              "      <td>0.077882</td>\n",
              "      <td>7</td>\n",
              "    </tr>\n",
              "    <tr>\n",
              "      <th>72</th>\n",
              "      <td>0.423077</td>\n",
              "      <td>0.264763</td>\n",
              "      <td>0.0</td>\n",
              "      <td>0.118380</td>\n",
              "      <td>1</td>\n",
              "    </tr>\n",
              "  </tbody>\n",
              "</table>\n",
              "<p>73 rows × 5 columns</p>\n",
              "</div>"
            ],
            "text/plain": [
              "    model_yili        km  renk     fiyat  KümeNo\n",
              "0     0.884615  0.194617   1.0  0.741433       0\n",
              "1     0.500000  0.688239   0.0  0.355140       2\n",
              "2     0.653846  0.675249   0.0  0.529595       3\n",
              "3     0.692308  0.577823   1.0  0.464174       8\n",
              "4     0.769231  0.314125   0.0  0.582555       3\n",
              "..         ...       ...   ...       ...     ...\n",
              "68    0.769231  1.000000   1.0  0.181452      10\n",
              "69    0.230769  0.543789   0.0  0.112150       1\n",
              "70    0.961538  0.004962   1.0  0.529595       3\n",
              "71    0.230769  0.389468   1.0  0.077882       7\n",
              "72    0.423077  0.264763   0.0  0.118380       1\n",
              "\n",
              "[73 rows x 5 columns]"
            ]
          },
          "metadata": {
            "tags": []
          },
          "execution_count": 529
        }
      ]
    },
    {
      "cell_type": "code",
      "metadata": {
        "id": "NbLUemNDzG7I"
      },
      "source": [
        "y=verimustafayedek2[\"KümeNo\"].values\n",
        "#x=verimustafayedek2[verimustafayedek2.columns[:-1]].values\n",
        "x=verimustafayedek2.iloc[:,:-1].values"
      ],
      "execution_count": null,
      "outputs": []
    },
    {
      "cell_type": "markdown",
      "metadata": {
        "id": "GIzKFBGuHSJE"
      },
      "source": [
        "***BURADA TRAİN VE TEST YERLERİNİ DÜZGÜN YAZMAK LAZIM YOKSA HATA VERİYOR, SIRALAMASI ÖNEMLİ !!!***"
      ]
    },
    {
      "cell_type": "code",
      "metadata": {
        "id": "tIPXxZft0MKT"
      },
      "source": [
        "trainx3,testx3,trainy3,testy3= train_test_split(x,y,test_size=0.2)"
      ],
      "execution_count": null,
      "outputs": []
    },
    {
      "cell_type": "code",
      "metadata": {
        "id": "siYpVaMm1iLV"
      },
      "source": [
        "knnDeneme=KNeighborsClassifier(n_neighbors=5)\n",
        "knnDeneme.fit(trainx3,trainy3)\n",
        "predy=knnDeneme.predict(testx3)"
      ],
      "execution_count": null,
      "outputs": []
    },
    {
      "cell_type": "code",
      "metadata": {
        "colab": {
          "base_uri": "https://localhost:8080/"
        },
        "id": "qvTbJ7JAGKSi",
        "outputId": "7a1a46ee-c4bb-4828-9ceb-91a0fff17030"
      },
      "source": [
        "for i,j in zip(predy,testy3):\n",
        "  print(i,j)"
      ],
      "execution_count": null,
      "outputs": [
        {
          "output_type": "stream",
          "text": [
            "9 11\n",
            "5 4\n",
            "8 10\n",
            "10 10\n",
            "1 1\n",
            "10 10\n",
            "1 1\n",
            "0 3\n",
            "1 1\n",
            "1 10\n",
            "9 0\n",
            "0 6\n",
            "7 7\n",
            "1 1\n",
            "5 12\n"
          ],
          "name": "stdout"
        }
      ]
    },
    {
      "cell_type": "markdown",
      "metadata": {
        "id": "3WXfuH3hVdet"
      },
      "source": [
        "***UZAKLIK HESAPLA***"
      ]
    },
    {
      "cell_type": "code",
      "metadata": {
        "id": "6YFKYd385h4j"
      },
      "source": [
        "def anahtar(eleman):\n",
        "  return eleman[\"uzaklik\"]"
      ],
      "execution_count": null,
      "outputs": []
    },
    {
      "cell_type": "code",
      "metadata": {
        "id": "wjvmtXUc5kix"
      },
      "source": [
        "def uzaklik(a,b):\n",
        "  toplam = 0\n",
        "  for i in range(len(a)):\n",
        "    toplam +=(a[i]-b[i])**2\n",
        "  return toplam**0.5"
      ],
      "execution_count": null,
      "outputs": []
    },
    {
      "cell_type": "code",
      "metadata": {
        "colab": {
          "base_uri": "https://localhost:8080/"
        },
        "id": "2165FVPjL3NK",
        "outputId": "9e23ac58-9539-46d7-c3d1-4c2a9c89a4b9"
      },
      "source": [
        "uzaklik(testx3[0],trainx3[1])"
      ],
      "execution_count": null,
      "outputs": [
        {
          "output_type": "execute_result",
          "data": {
            "text/plain": [
              "1.3267468309984596"
            ]
          },
          "metadata": {
            "tags": []
          },
          "execution_count": 536
        }
      ]
    },
    {
      "cell_type": "code",
      "metadata": {
        "id": "Z6sNIE0EVs9X"
      },
      "source": [
        "uzakliklistesi=[]\n",
        "for i in range(len(trainx3)):\n",
        "  #print(uzaklik([testx3[0]],[trainx3[i]]),trainy3[i])\n",
        "  uzakliklistesi.append({\"uzaklik\":uzaklik(testx3[0],trainx3[i]), \"sinif\":trainy3[i]})"
      ],
      "execution_count": null,
      "outputs": []
    },
    {
      "cell_type": "code",
      "metadata": {
        "id": "wIriEQpUeuK8"
      },
      "source": [
        "#uzakliklistesi.sort(key=anahtar)\n",
        "#uzakliklistesi[:5]"
      ],
      "execution_count": null,
      "outputs": []
    },
    {
      "cell_type": "code",
      "metadata": {
        "colab": {
          "base_uri": "https://localhost:8080/",
          "height": 173
        },
        "id": "xjIrM8PUgrMF",
        "outputId": "c0db2fba-ca90-4d16-b7f0-60c1bae2ac99"
      },
      "source": [
        "#pd.DataFrame(uzakliklistesi[:3]).groupby(\"sinif\").count().idxmax()[0]\n",
        "pd.DataFrame(uzakliklistesi[:3]).groupby(\"sinif\").count()"
      ],
      "execution_count": null,
      "outputs": [
        {
          "output_type": "execute_result",
          "data": {
            "text/html": [
              "<div>\n",
              "<style scoped>\n",
              "    .dataframe tbody tr th:only-of-type {\n",
              "        vertical-align: middle;\n",
              "    }\n",
              "\n",
              "    .dataframe tbody tr th {\n",
              "        vertical-align: top;\n",
              "    }\n",
              "\n",
              "    .dataframe thead th {\n",
              "        text-align: right;\n",
              "    }\n",
              "</style>\n",
              "<table border=\"1\" class=\"dataframe\">\n",
              "  <thead>\n",
              "    <tr style=\"text-align: right;\">\n",
              "      <th></th>\n",
              "      <th>uzaklik</th>\n",
              "    </tr>\n",
              "    <tr>\n",
              "      <th>sinif</th>\n",
              "      <th></th>\n",
              "    </tr>\n",
              "  </thead>\n",
              "  <tbody>\n",
              "    <tr>\n",
              "      <th>3</th>\n",
              "      <td>1</td>\n",
              "    </tr>\n",
              "    <tr>\n",
              "      <th>4</th>\n",
              "      <td>1</td>\n",
              "    </tr>\n",
              "    <tr>\n",
              "      <th>10</th>\n",
              "      <td>1</td>\n",
              "    </tr>\n",
              "  </tbody>\n",
              "</table>\n",
              "</div>"
            ],
            "text/plain": [
              "       uzaklik\n",
              "sinif         \n",
              "3            1\n",
              "4            1\n",
              "10           1"
            ]
          },
          "metadata": {
            "tags": []
          },
          "execution_count": 541
        }
      ]
    },
    {
      "cell_type": "markdown",
      "metadata": {
        "id": "i_fqgz6aqAUW"
      },
      "source": [
        "# ***KNN KODLAMA***"
      ]
    },
    {
      "cell_type": "code",
      "metadata": {
        "colab": {
          "base_uri": "https://localhost:8080/"
        },
        "id": "mo4SwKazvpfr",
        "outputId": "e976c97b-ed63-4a68-fe80-e505854eb60d"
      },
      "source": [
        "uzakliklistesi"
      ],
      "execution_count": null,
      "outputs": [
        {
          "output_type": "execute_result",
          "data": {
            "text/plain": [
              "[{'sinif': 3, 'uzaklik': 0.3141404584126562},\n",
              " {'sinif': 10, 'uzaklik': 1.3267468309984596},\n",
              " {'sinif': 4, 'uzaklik': 1.548550410144984},\n",
              " {'sinif': 3, 'uzaklik': 0.3141404584126562},\n",
              " {'sinif': 7, 'uzaklik': 1.1403892117253085},\n",
              " {'sinif': 1, 'uzaklik': 1.3879092349219775},\n",
              " {'sinif': 10, 'uzaklik': 1.2117010183908696},\n",
              " {'sinif': 4, 'uzaklik': 1.4719908840358935},\n",
              " {'sinif': 8, 'uzaklik': 0.4523142560671323},\n",
              " {'sinif': 1, 'uzaklik': 1.3879092349219775},\n",
              " {'sinif': 10, 'uzaklik': 1.5094389172234062},\n",
              " {'sinif': 7, 'uzaklik': 1.0042879855334248},\n",
              " {'sinif': 8, 'uzaklik': 0.29384489246325557},\n",
              " {'sinif': 10, 'uzaklik': 0.6329870453489214},\n",
              " {'sinif': 10, 'uzaklik': 1.4373289509260603},\n",
              " {'sinif': 4, 'uzaklik': 0.8176089192699578},\n",
              " {'sinif': 5, 'uzaklik': 1.4134319783771583},\n",
              " {'sinif': 2, 'uzaklik': 1.2531916194213393},\n",
              " {'sinif': 8, 'uzaklik': 0.5315752914936798},\n",
              " {'sinif': 1, 'uzaklik': 1.034517654783623},\n",
              " {'sinif': 8, 'uzaklik': 1.1239922416930013},\n",
              " {'sinif': 8, 'uzaklik': 0.33196527983405416},\n",
              " {'sinif': 3, 'uzaklik': 1.1610448731791023},\n",
              " {'sinif': 8, 'uzaklik': 0.3356713082684647},\n",
              " {'sinif': 5, 'uzaklik': 1.1525566951222468},\n",
              " {'sinif': 5, 'uzaklik': 1.1916262144547256},\n",
              " {'sinif': 1, 'uzaklik': 1.2829124550726412},\n",
              " {'sinif': 1, 'uzaklik': 1.400775209988431},\n",
              " {'sinif': 5, 'uzaklik': 1.1731982905717737},\n",
              " {'sinif': 10, 'uzaklik': 1.2691622680854997},\n",
              " {'sinif': 7, 'uzaklik': 1.448449639994526},\n",
              " {'sinif': 5, 'uzaklik': 1.172194081381168},\n",
              " {'sinif': 5, 'uzaklik': 0.7208857440522463},\n",
              " {'sinif': 7, 'uzaklik': 1.4323132843424136},\n",
              " {'sinif': 5, 'uzaklik': 0.6150829075239934},\n",
              " {'sinif': 1, 'uzaklik': 1.4362903185001834},\n",
              " {'sinif': 7, 'uzaklik': 1.504798595501678},\n",
              " {'sinif': 11, 'uzaklik': 1.0040366395279066},\n",
              " {'sinif': 1, 'uzaklik': 1.394209431841012},\n",
              " {'sinif': 4, 'uzaklik': 0.7727558548364729},\n",
              " {'sinif': 0, 'uzaklik': 1.0089002326079344},\n",
              " {'sinif': 9, 'uzaklik': 0.23305860642779774},\n",
              " {'sinif': 7, 'uzaklik': 1.1009284031188975},\n",
              " {'sinif': 10, 'uzaklik': 1.250590867070934},\n",
              " {'sinif': 2, 'uzaklik': 1.1137814303115268},\n",
              " {'sinif': 5, 'uzaklik': 0.5697057556154244},\n",
              " {'sinif': 1, 'uzaklik': 1.4101223956479172},\n",
              " {'sinif': 10, 'uzaklik': 1.2217304057504208},\n",
              " {'sinif': 4, 'uzaklik': 1.484671504059808},\n",
              " {'sinif': 5, 'uzaklik': 1.3747017047302916},\n",
              " {'sinif': 7, 'uzaklik': 0.9743110032193264},\n",
              " {'sinif': 9, 'uzaklik': 0.23305860642779774},\n",
              " {'sinif': 1, 'uzaklik': 0.9903545204684019},\n",
              " {'sinif': 1, 'uzaklik': 1.4222000190685804},\n",
              " {'sinif': 0, 'uzaklik': 0.19916633882004783},\n",
              " {'sinif': 1, 'uzaklik': 1.3056871388176052},\n",
              " {'sinif': 7, 'uzaklik': 1.421904079250916},\n",
              " {'sinif': 12, 'uzaklik': 1.1333045571000908}]"
            ]
          },
          "metadata": {
            "tags": []
          },
          "execution_count": 542
        }
      ]
    },
    {
      "cell_type": "code",
      "metadata": {
        "colab": {
          "base_uri": "https://localhost:8080/"
        },
        "id": "6ZmMyni2iQI2",
        "outputId": "c40b0d3c-8665-4f8d-acad-0c126c4ca6a6"
      },
      "source": [
        "k=5\n",
        "dogrusayaci=0\n",
        "tahminlistesi=[]\n",
        "for testno in range(len(testx3)):\n",
        "  uzakliklistesi= []\n",
        "  for egitimno in range(len(trainx3)):\n",
        "    d=uzaklik([testx3[testno]],[trainx3[egitimno]])\n",
        "    uzakliklistesi.append({\"uzaklik\":d,\"sinif\":trainy3[egitimno]})\n",
        "  #uzakliklistesi.sort(key=anahtar)\n",
        "  sonuc=pd.DataFrame(uzakliklistesi[:k]).groupby(\"sinif\").count().idxmax()[0]\n",
        "  print(\"tahmin: [{}], Gercek: [{}]\".format(sonuc,testy3[testno]))\n",
        "  if sonuc==testy3[testno]:\n",
        "    dogrusayaci+=1\n",
        "  tahminlistesi.append(sonuc)"
      ],
      "execution_count": null,
      "outputs": [
        {
          "output_type": "stream",
          "text": [
            "tahmin: [3], Gercek: [11]\n",
            "tahmin: [3], Gercek: [4]\n",
            "tahmin: [3], Gercek: [10]\n",
            "tahmin: [3], Gercek: [10]\n",
            "tahmin: [3], Gercek: [1]\n",
            "tahmin: [3], Gercek: [10]\n",
            "tahmin: [3], Gercek: [1]\n",
            "tahmin: [3], Gercek: [3]\n",
            "tahmin: [3], Gercek: [1]\n",
            "tahmin: [3], Gercek: [10]\n",
            "tahmin: [3], Gercek: [0]\n",
            "tahmin: [3], Gercek: [6]\n",
            "tahmin: [3], Gercek: [7]\n",
            "tahmin: [3], Gercek: [1]\n",
            "tahmin: [3], Gercek: [12]\n"
          ],
          "name": "stdout"
        }
      ]
    },
    {
      "cell_type": "code",
      "metadata": {
        "colab": {
          "base_uri": "https://localhost:8080/"
        },
        "id": "JkQmNSI-rEJf",
        "outputId": "52ba1c1c-d3be-460e-e8f8-12583c55c995"
      },
      "source": [
        "print(\"toplam test ornegi ->\"+str(len(testx3)))\n",
        "print(\"basarili siniflandirma sayaci ->\"+str(dogrusayaci))\n",
        "print(\"yuzde kac basari -> %\"+str(100*(dogrusayaci/len(testx3))))"
      ],
      "execution_count": null,
      "outputs": [
        {
          "output_type": "stream",
          "text": [
            "toplam test ornegi ->15\n",
            "basarili siniflandirma sayaci ->1\n",
            "yuzde kac basari -> %6.666666666666667\n"
          ],
          "name": "stdout"
        }
      ]
    },
    {
      "cell_type": "code",
      "metadata": {
        "colab": {
          "base_uri": "https://localhost:8080/"
        },
        "id": "YvNWUurkvv4V",
        "outputId": "230aab1c-7123-40dc-bbcb-7c16e8059858"
      },
      "source": [
        "confusion_matrix(testy3,tahminlistesi)"
      ],
      "execution_count": null,
      "outputs": [
        {
          "output_type": "execute_result",
          "data": {
            "text/plain": [
              "array([[0, 0, 1, 0, 0, 0, 0, 0, 0],\n",
              "       [0, 0, 4, 0, 0, 0, 0, 0, 0],\n",
              "       [0, 0, 1, 0, 0, 0, 0, 0, 0],\n",
              "       [0, 0, 1, 0, 0, 0, 0, 0, 0],\n",
              "       [0, 0, 1, 0, 0, 0, 0, 0, 0],\n",
              "       [0, 0, 1, 0, 0, 0, 0, 0, 0],\n",
              "       [0, 0, 4, 0, 0, 0, 0, 0, 0],\n",
              "       [0, 0, 1, 0, 0, 0, 0, 0, 0],\n",
              "       [0, 0, 1, 0, 0, 0, 0, 0, 0]])"
            ]
          },
          "metadata": {
            "tags": []
          },
          "execution_count": 545
        }
      ]
    },
    {
      "cell_type": "markdown",
      "metadata": {
        "id": "qVEJjI0KIO8x"
      },
      "source": [
        "# ***YAPAY SİNİR AĞLARI KODLARI***"
      ]
    },
    {
      "cell_type": "code",
      "metadata": {
        "id": "uHQEORHrIS0g"
      },
      "source": [
        "y=verimustafayedek2[\"KümeNo\"].values\n",
        "x=verimustafayedek2[verimustafayedek2.columns[:-1]].values"
      ],
      "execution_count": null,
      "outputs": []
    },
    {
      "cell_type": "code",
      "metadata": {
        "id": "KTBjQhcdJA1h"
      },
      "source": [
        "trainx4,testx4,trainy4,testy4=train_test_split(x,y,test_size=0.2)"
      ],
      "execution_count": null,
      "outputs": []
    },
    {
      "cell_type": "code",
      "metadata": {
        "id": "jZJNOtA6LcAK"
      },
      "source": [
        "model=Sequential()\n",
        "model.add(Dense(13,activation=\"relu\",input_shape=[4]))\n",
        "model.add(Dense(512,activation=\"relu\"))\n",
        "model.add(Dense(512,activation=\"relu\"))\n",
        "model.add(Dense(256,activation=\"relu\"))\n",
        "model.add(Dense(1,activation=\"sigmoid\"))\n",
        "model.compile(optimizer=\"adam\",metrics=[\"accuracy\"],loss=\"binary_crossentropy\")"
      ],
      "execution_count": null,
      "outputs": []
    },
    {
      "cell_type": "code",
      "metadata": {
        "colab": {
          "base_uri": "https://localhost:8080/"
        },
        "id": "m7JVLWyNTcFh",
        "outputId": "0823e2f0-3c93-4a37-96d8-9b48464d761c"
      },
      "source": [
        "model.summary()"
      ],
      "execution_count": null,
      "outputs": [
        {
          "output_type": "stream",
          "text": [
            "Model: \"sequential_4\"\n",
            "_________________________________________________________________\n",
            "Layer (type)                 Output Shape              Param #   \n",
            "=================================================================\n",
            "dense_20 (Dense)             (None, 13)                65        \n",
            "_________________________________________________________________\n",
            "dense_21 (Dense)             (None, 512)               7168      \n",
            "_________________________________________________________________\n",
            "dense_22 (Dense)             (None, 512)               262656    \n",
            "_________________________________________________________________\n",
            "dense_23 (Dense)             (None, 256)               131328    \n",
            "_________________________________________________________________\n",
            "dense_24 (Dense)             (None, 1)                 257       \n",
            "=================================================================\n",
            "Total params: 401,474\n",
            "Trainable params: 401,474\n",
            "Non-trainable params: 0\n",
            "_________________________________________________________________\n"
          ],
          "name": "stdout"
        }
      ]
    },
    {
      "cell_type": "code",
      "metadata": {
        "colab": {
          "base_uri": "https://localhost:8080/"
        },
        "id": "ehRxVH1YOHyu",
        "outputId": "7ddb0fbe-bc2f-4b17-b1d4-7c5552a8fb34"
      },
      "source": [
        "model.fit(trainx4,trainy4,epochs=20)"
      ],
      "execution_count": null,
      "outputs": [
        {
          "output_type": "stream",
          "text": [
            "Epoch 1/20\n",
            "2/2 [==============================] - 1s 16ms/step - loss: 0.3641 - accuracy: 0.1117\n",
            "Epoch 2/20\n",
            "2/2 [==============================] - 0s 14ms/step - loss: -2.2145 - accuracy: 0.1659\n",
            "Epoch 3/20\n",
            "2/2 [==============================] - 0s 10ms/step - loss: -5.6094 - accuracy: 0.1451\n",
            "Epoch 4/20\n",
            "2/2 [==============================] - 0s 16ms/step - loss: -10.5959 - accuracy: 0.1764\n",
            "Epoch 5/20\n",
            "2/2 [==============================] - 0s 13ms/step - loss: -18.0657 - accuracy: 0.1555\n",
            "Epoch 6/20\n",
            "2/2 [==============================] - 0s 10ms/step - loss: -30.4303 - accuracy: 0.1243\n",
            "Epoch 7/20\n",
            "2/2 [==============================] - 0s 20ms/step - loss: -46.7073 - accuracy: 0.1451\n",
            "Epoch 8/20\n",
            "2/2 [==============================] - 0s 11ms/step - loss: -69.4427 - accuracy: 0.1451\n",
            "Epoch 9/20\n",
            "2/2 [==============================] - 0s 10ms/step - loss: -101.1167 - accuracy: 0.1347\n",
            "Epoch 10/20\n",
            "2/2 [==============================] - 0s 10ms/step - loss: -139.0299 - accuracy: 0.1451\n",
            "Epoch 11/20\n",
            "2/2 [==============================] - 0s 17ms/step - loss: -185.9322 - accuracy: 0.1659\n",
            "Epoch 12/20\n",
            "2/2 [==============================] - 0s 12ms/step - loss: -275.7128 - accuracy: 0.1659\n",
            "Epoch 13/20\n",
            "2/2 [==============================] - 0s 14ms/step - loss: -367.6667 - accuracy: 0.1451\n",
            "Epoch 14/20\n",
            "2/2 [==============================] - 0s 18ms/step - loss: -476.2171 - accuracy: 0.1555\n",
            "Epoch 15/20\n",
            "2/2 [==============================] - 0s 11ms/step - loss: -656.6812 - accuracy: 0.1451\n",
            "Epoch 16/20\n",
            "2/2 [==============================] - 0s 13ms/step - loss: -831.9223 - accuracy: 0.1347\n",
            "Epoch 17/20\n",
            "2/2 [==============================] - 0s 12ms/step - loss: -1080.8353 - accuracy: 0.1555\n",
            "Epoch 18/20\n",
            "2/2 [==============================] - 0s 12ms/step - loss: -1379.2812 - accuracy: 0.1451\n",
            "Epoch 19/20\n",
            "2/2 [==============================] - 0s 15ms/step - loss: -1853.5991 - accuracy: 0.1451\n",
            "Epoch 20/20\n",
            "2/2 [==============================] - 0s 14ms/step - loss: -2324.5915 - accuracy: 0.1451\n"
          ],
          "name": "stdout"
        },
        {
          "output_type": "execute_result",
          "data": {
            "text/plain": [
              "<keras.callbacks.History at 0x7fea93058a50>"
            ]
          },
          "metadata": {
            "tags": []
          },
          "execution_count": 551
        }
      ]
    },
    {
      "cell_type": "markdown",
      "metadata": {
        "id": "bzk0QKFel7wd"
      },
      "source": [
        "***TENSORFLOW KULLANARAK İNPUT_SHAPE SORUNU KALDIRILDI!***"
      ]
    },
    {
      "cell_type": "code",
      "metadata": {
        "colab": {
          "base_uri": "https://localhost:8080/"
        },
        "id": "boS4tAP3lops",
        "outputId": "e4dbd3d7-b1a4-43a9-a45f-b6dc6eb353a7"
      },
      "source": [
        "tf.function(experimental_relax_shapes=True)"
      ],
      "execution_count": null,
      "outputs": [
        {
          "output_type": "execute_result",
          "data": {
            "text/plain": [
              "<function tensorflow.python.eager.def_function.function.<locals>.decorated>"
            ]
          },
          "metadata": {
            "tags": []
          },
          "execution_count": 552
        }
      ]
    },
    {
      "cell_type": "code",
      "metadata": {
        "id": "MwBVp-k0iyck",
        "colab": {
          "base_uri": "https://localhost:8080/"
        },
        "outputId": "2f9399b2-cdf8-45b9-b567-589dd2466723"
      },
      "source": [
        "predy2=model.predict(testx4)"
      ],
      "execution_count": null,
      "outputs": [
        {
          "output_type": "stream",
          "text": [
            "WARNING:tensorflow:5 out of the last 13 calls to <function Model.make_predict_function.<locals>.predict_function at 0x7fea9312f0e0> triggered tf.function retracing. Tracing is expensive and the excessive number of tracings could be due to (1) creating @tf.function repeatedly in a loop, (2) passing tensors with different shapes, (3) passing Python objects instead of tensors. For (1), please define your @tf.function outside of the loop. For (2), @tf.function has experimental_relax_shapes=True option that relaxes argument shapes that can avoid unnecessary retracing. For (3), please refer to https://www.tensorflow.org/guide/function#controlling_retracing and https://www.tensorflow.org/api_docs/python/tf/function for  more details.\n"
          ],
          "name": "stdout"
        }
      ]
    },
    {
      "cell_type": "code",
      "metadata": {
        "id": "jlKgkTdcjDkA"
      },
      "source": [
        "predy_binary=[]\n",
        "for i in predy2:\n",
        "  predy_binary.append(int(round(i[0],0)))"
      ],
      "execution_count": null,
      "outputs": []
    },
    {
      "cell_type": "code",
      "metadata": {
        "colab": {
          "base_uri": "https://localhost:8080/"
        },
        "id": "cw3n4nJwwyzp",
        "outputId": "b9d233ce-8d36-4ddb-83b4-a722cf7cb14f"
      },
      "source": [
        "predy_binary"
      ],
      "execution_count": null,
      "outputs": [
        {
          "output_type": "execute_result",
          "data": {
            "text/plain": [
              "[1, 1, 1, 1, 1, 1, 1, 1, 1, 1, 1, 1, 1, 1, 1]"
            ]
          },
          "metadata": {
            "tags": []
          },
          "execution_count": 556
        }
      ]
    },
    {
      "cell_type": "code",
      "metadata": {
        "colab": {
          "base_uri": "https://localhost:8080/"
        },
        "id": "nq-fm0E6xIY0",
        "outputId": "c871e5e4-b549-4d49-ae2d-ce8ccfebb7de"
      },
      "source": [
        "accuracy_score(testy4,predy_binary)"
      ],
      "execution_count": null,
      "outputs": [
        {
          "output_type": "execute_result",
          "data": {
            "text/plain": [
              "0.4"
            ]
          },
          "metadata": {
            "tags": []
          },
          "execution_count": 557
        }
      ]
    },
    {
      "cell_type": "code",
      "metadata": {
        "colab": {
          "base_uri": "https://localhost:8080/",
          "height": 140
        },
        "id": "sY2f89uszXfo",
        "outputId": "942ba2df-74e9-48fa-eb2d-fe08ec479ed4"
      },
      "source": [
        "classification_report(testy4,predy_binary)"
      ],
      "execution_count": null,
      "outputs": [
        {
          "output_type": "stream",
          "text": [
            "/usr/local/lib/python3.7/dist-packages/sklearn/metrics/_classification.py:1272: UndefinedMetricWarning: Precision and F-score are ill-defined and being set to 0.0 in labels with no predicted samples. Use `zero_division` parameter to control this behavior.\n",
            "  _warn_prf(average, modifier, msg_start, len(result))\n"
          ],
          "name": "stderr"
        },
        {
          "output_type": "execute_result",
          "data": {
            "application/vnd.google.colaboratory.intrinsic+json": {
              "type": "string"
            },
            "text/plain": [
              "'              precision    recall  f1-score   support\\n\\n           1       0.40      1.00      0.57         6\\n           3       0.00      0.00      0.00         1\\n           4       0.00      0.00      0.00         2\\n           7       0.00      0.00      0.00         2\\n           8       0.00      0.00      0.00         1\\n          10       0.00      0.00      0.00         2\\n          11       0.00      0.00      0.00         1\\n\\n    accuracy                           0.40        15\\n   macro avg       0.06      0.14      0.08        15\\nweighted avg       0.16      0.40      0.23        15\\n'"
            ]
          },
          "metadata": {
            "tags": []
          },
          "execution_count": 558
        }
      ]
    },
    {
      "cell_type": "code",
      "metadata": {
        "colab": {
          "base_uri": "https://localhost:8080/"
        },
        "id": "vxpWb90VzlnL",
        "outputId": "fb1d83be-9a32-4443-c1db-ef41f06923a4"
      },
      "source": [
        "confusion_matrix(testy4,predy_binary)"
      ],
      "execution_count": null,
      "outputs": [
        {
          "output_type": "execute_result",
          "data": {
            "text/plain": [
              "array([[6, 0, 0, 0, 0, 0, 0],\n",
              "       [1, 0, 0, 0, 0, 0, 0],\n",
              "       [2, 0, 0, 0, 0, 0, 0],\n",
              "       [2, 0, 0, 0, 0, 0, 0],\n",
              "       [1, 0, 0, 0, 0, 0, 0],\n",
              "       [2, 0, 0, 0, 0, 0, 0],\n",
              "       [1, 0, 0, 0, 0, 0, 0]])"
            ]
          },
          "metadata": {
            "tags": []
          },
          "execution_count": 559
        }
      ]
    },
    {
      "cell_type": "code",
      "metadata": {
        "colab": {
          "base_uri": "https://localhost:8080/"
        },
        "id": "MGd1j8DexmJ3",
        "outputId": "add95dfd-d039-43a5-847d-b95371c60938"
      },
      "source": [
        "predy3=model.predict(trainx4)\n",
        "predy_binary2=[]\n",
        "for i in predy2:\n",
        "  predy_binary2.append(int(round(i[0],0)))\n",
        "accuracy_score(testy4,predy_binary2)"
      ],
      "execution_count": null,
      "outputs": [
        {
          "output_type": "execute_result",
          "data": {
            "text/plain": [
              "0.4"
            ]
          },
          "metadata": {
            "tags": []
          },
          "execution_count": 560
        }
      ]
    },
    {
      "cell_type": "code",
      "metadata": {
        "id": "gXodf1Hn0HYm"
      },
      "source": [
        "knn2=KNeighborsClassifier(n_neighbors=5)\n",
        "knn2.fit(trainx4,trainy4)\n",
        "ypredknn= knn2.predict(testx4)"
      ],
      "execution_count": null,
      "outputs": []
    },
    {
      "cell_type": "code",
      "metadata": {
        "colab": {
          "base_uri": "https://localhost:8080/"
        },
        "id": "ehGbjPiT0hGZ",
        "outputId": "69d82aa4-1d84-4907-e3d9-880df34e8d1d"
      },
      "source": [
        "confusion_matrix(testy4,ypredknn)"
      ],
      "execution_count": null,
      "outputs": [
        {
          "output_type": "execute_result",
          "data": {
            "text/plain": [
              "array([[0, 0, 0, 0, 0, 0, 0, 0, 0],\n",
              "       [0, 4, 0, 0, 0, 1, 0, 1, 0],\n",
              "       [0, 0, 0, 0, 0, 0, 1, 0, 0],\n",
              "       [0, 0, 0, 1, 1, 0, 0, 0, 0],\n",
              "       [0, 0, 0, 0, 0, 0, 0, 0, 0],\n",
              "       [0, 2, 0, 0, 0, 0, 0, 0, 0],\n",
              "       [0, 0, 0, 0, 0, 0, 1, 0, 0],\n",
              "       [0, 2, 0, 0, 0, 0, 0, 0, 0],\n",
              "       [1, 0, 0, 0, 0, 0, 0, 0, 0]])"
            ]
          },
          "metadata": {
            "tags": []
          },
          "execution_count": 563
        }
      ]
    },
    {
      "cell_type": "markdown",
      "metadata": {
        "id": "obJIxxo1GwPt"
      },
      "source": [
        "# **ÖN İŞLEM KODLARI**"
      ]
    },
    {
      "cell_type": "markdown",
      "metadata": {
        "id": "iuJJHUgzIsE2"
      },
      "source": [
        "***İmputation - Eksik Alanları Tamamlama (GENERAL_DAM_OCCUPANCY_RATE kolonu için)***"
      ]
    },
    {
      "cell_type": "code",
      "metadata": {
        "colab": {
          "base_uri": "https://localhost:8080/",
          "height": 419
        },
        "id": "7yca_B01IXU6",
        "outputId": "47262152-ecb6-41de-d5f1-b10db9050e68"
      },
      "source": [
        "verimustafa"
      ],
      "execution_count": null,
      "outputs": [
        {
          "output_type": "execute_result",
          "data": {
            "text/html": [
              "<div>\n",
              "<style scoped>\n",
              "    .dataframe tbody tr th:only-of-type {\n",
              "        vertical-align: middle;\n",
              "    }\n",
              "\n",
              "    .dataframe tbody tr th {\n",
              "        vertical-align: top;\n",
              "    }\n",
              "\n",
              "    .dataframe thead th {\n",
              "        text-align: right;\n",
              "    }\n",
              "</style>\n",
              "<table border=\"1\" class=\"dataframe\">\n",
              "  <thead>\n",
              "    <tr style=\"text-align: right;\">\n",
              "      <th></th>\n",
              "      <th>seri</th>\n",
              "      <th>model_yili</th>\n",
              "      <th>km</th>\n",
              "      <th>renk</th>\n",
              "      <th>fiyat</th>\n",
              "    </tr>\n",
              "  </thead>\n",
              "  <tbody>\n",
              "    <tr>\n",
              "      <th>0</th>\n",
              "      <td>Linea</td>\n",
              "      <td>0.884615</td>\n",
              "      <td>0.194617</td>\n",
              "      <td>1</td>\n",
              "      <td>119000</td>\n",
              "    </tr>\n",
              "    <tr>\n",
              "      <th>1</th>\n",
              "      <td>Punto</td>\n",
              "      <td>0.500000</td>\n",
              "      <td>0.688239</td>\n",
              "      <td>0</td>\n",
              "      <td>57000</td>\n",
              "    </tr>\n",
              "    <tr>\n",
              "      <th>2</th>\n",
              "      <td>Linea</td>\n",
              "      <td>0.653846</td>\n",
              "      <td>0.675249</td>\n",
              "      <td>0</td>\n",
              "      <td>85000</td>\n",
              "    </tr>\n",
              "    <tr>\n",
              "      <th>3</th>\n",
              "      <td>Linea</td>\n",
              "      <td>0.692308</td>\n",
              "      <td>0.577823</td>\n",
              "      <td>1</td>\n",
              "      <td>74500</td>\n",
              "    </tr>\n",
              "    <tr>\n",
              "      <th>4</th>\n",
              "      <td>Linea</td>\n",
              "      <td>0.769231</td>\n",
              "      <td>0.314125</td>\n",
              "      <td>0</td>\n",
              "      <td>93500</td>\n",
              "    </tr>\n",
              "    <tr>\n",
              "      <th>...</th>\n",
              "      <td>...</td>\n",
              "      <td>...</td>\n",
              "      <td>...</td>\n",
              "      <td>...</td>\n",
              "      <td>...</td>\n",
              "    </tr>\n",
              "    <tr>\n",
              "      <th>68</th>\n",
              "      <td>Linea</td>\n",
              "      <td>0.769231</td>\n",
              "      <td>1.000000</td>\n",
              "      <td>1</td>\n",
              "      <td>29123</td>\n",
              "    </tr>\n",
              "    <tr>\n",
              "      <th>69</th>\n",
              "      <td>Marea</td>\n",
              "      <td>0.230769</td>\n",
              "      <td>0.543789</td>\n",
              "      <td>0</td>\n",
              "      <td>18000</td>\n",
              "    </tr>\n",
              "    <tr>\n",
              "      <th>70</th>\n",
              "      <td>Egea</td>\n",
              "      <td>0.961538</td>\n",
              "      <td>0.004962</td>\n",
              "      <td>1</td>\n",
              "      <td>85000</td>\n",
              "    </tr>\n",
              "    <tr>\n",
              "      <th>71</th>\n",
              "      <td>Uno</td>\n",
              "      <td>0.230769</td>\n",
              "      <td>0.389468</td>\n",
              "      <td>1</td>\n",
              "      <td>12500</td>\n",
              "    </tr>\n",
              "    <tr>\n",
              "      <th>72</th>\n",
              "      <td>Palio</td>\n",
              "      <td>0.423077</td>\n",
              "      <td>0.264763</td>\n",
              "      <td>0</td>\n",
              "      <td>19000</td>\n",
              "    </tr>\n",
              "  </tbody>\n",
              "</table>\n",
              "<p>73 rows × 5 columns</p>\n",
              "</div>"
            ],
            "text/plain": [
              "     seri  model_yili        km  renk   fiyat\n",
              "0   Linea    0.884615  0.194617     1  119000\n",
              "1   Punto    0.500000  0.688239     0   57000\n",
              "2   Linea    0.653846  0.675249     0   85000\n",
              "3   Linea    0.692308  0.577823     1   74500\n",
              "4   Linea    0.769231  0.314125     0   93500\n",
              "..    ...         ...       ...   ...     ...\n",
              "68  Linea    0.769231  1.000000     1   29123\n",
              "69  Marea    0.230769  0.543789     0   18000\n",
              "70   Egea    0.961538  0.004962     1   85000\n",
              "71    Uno    0.230769  0.389468     1   12500\n",
              "72  Palio    0.423077  0.264763     0   19000\n",
              "\n",
              "[73 rows x 5 columns]"
            ]
          },
          "metadata": {
            "tags": []
          },
          "execution_count": 564
        }
      ]
    },
    {
      "cell_type": "code",
      "metadata": {
        "id": "NVLdbQ4YIxs7"
      },
      "source": [
        "seri=verimustafa[\"seri\"]\n",
        "modelyili=verimustafa[\"model_yili\"]\n",
        "km=verimustafa[\"km\"]\n",
        "renk=verimustafa[\"renk\"]\n",
        "fiyat=verimustafa[\"fiyat\"]"
      ],
      "execution_count": null,
      "outputs": []
    },
    {
      "cell_type": "code",
      "metadata": {
        "id": "I9nIVUb6JcHl"
      },
      "source": [
        "boslaridoldur=SimpleImputer()"
      ],
      "execution_count": null,
      "outputs": []
    },
    {
      "cell_type": "code",
      "metadata": {
        "id": "xp8pwVGeJ7gQ"
      },
      "source": [
        "seriyatay=seri.values\n",
        "modelyiliyatay=modelyili.values\n",
        "kmyatay=km.values"
      ],
      "execution_count": null,
      "outputs": []
    },
    {
      "cell_type": "code",
      "metadata": {
        "id": "fQ_lfgbIKLIp"
      },
      "source": [
        "seridikey=seri.values.reshape(-1,1)\n",
        "modelyilidikey=modelyili.values.reshape(-1,1)\n",
        "kmdikey=km.values.reshape(-1,1)"
      ],
      "execution_count": null,
      "outputs": []
    },
    {
      "cell_type": "code",
      "metadata": {
        "colab": {
          "base_uri": "https://localhost:8080/"
        },
        "id": "7Z80fXjNKcja",
        "outputId": "8a948bba-13cc-4d4f-bfb2-d0c414349056"
      },
      "source": [
        "boslaridoldur.fit(modelyili.values.reshape(-1,1))"
      ],
      "execution_count": null,
      "outputs": [
        {
          "output_type": "execute_result",
          "data": {
            "text/plain": [
              "SimpleImputer(add_indicator=False, copy=True, fill_value=None,\n",
              "              missing_values=nan, strategy='mean', verbose=0)"
            ]
          },
          "metadata": {
            "tags": []
          },
          "execution_count": 570
        }
      ]
    },
    {
      "cell_type": "code",
      "metadata": {
        "id": "ywRcYf5QKuzE"
      },
      "source": [
        "modelyilidolu=boslaridoldur.transform(modelyili.values.reshape(-1,1))"
      ],
      "execution_count": null,
      "outputs": []
    },
    {
      "cell_type": "code",
      "metadata": {
        "colab": {
          "base_uri": "https://localhost:8080/"
        },
        "id": "NNdw2t-tK6aS",
        "outputId": "c8abaf5c-f20f-4099-cd1e-1597d78365e9"
      },
      "source": [
        "verimustafa.pop(\"model_yili\")"
      ],
      "execution_count": null,
      "outputs": [
        {
          "output_type": "execute_result",
          "data": {
            "text/plain": [
              "0     0.884615\n",
              "1     0.500000\n",
              "2     0.653846\n",
              "3     0.692308\n",
              "4     0.769231\n",
              "        ...   \n",
              "68    0.769231\n",
              "69    0.230769\n",
              "70    0.961538\n",
              "71    0.230769\n",
              "72    0.423077\n",
              "Name: model_yili, Length: 73, dtype: float64"
            ]
          },
          "metadata": {
            "tags": []
          },
          "execution_count": 572
        }
      ]
    },
    {
      "cell_type": "code",
      "metadata": {
        "id": "SR14y4MDLAYW"
      },
      "source": [
        "modelyiliDF=pd.DataFrame(data=modelyilidolu, columns=[\"model_yili\"], index=range(0,len(verimustafa)))"
      ],
      "execution_count": null,
      "outputs": []
    },
    {
      "cell_type": "code",
      "metadata": {
        "id": "jn9qk32BLT9e"
      },
      "source": [
        "verimustafa=pd.concat([verimustafa,modelyiliDF], axis=1)"
      ],
      "execution_count": null,
      "outputs": []
    },
    {
      "cell_type": "markdown",
      "metadata": {
        "id": "BpqlnVZaLmNz"
      },
      "source": [
        "***LabelEncoding***"
      ]
    },
    {
      "cell_type": "code",
      "metadata": {
        "id": "Tul1rvKlLozK"
      },
      "source": [
        "seridelete=verimustafa.pop(\"seri\")"
      ],
      "execution_count": null,
      "outputs": []
    },
    {
      "cell_type": "code",
      "metadata": {
        "id": "p_pT13e7L10_"
      },
      "source": [
        "basitkodlayici=LabelEncoder()"
      ],
      "execution_count": null,
      "outputs": []
    },
    {
      "cell_type": "code",
      "metadata": {
        "id": "bs1-_DooL-JR"
      },
      "source": [
        "seriKodlanmisHali=basitkodlayici.fit_transform(seri.values)"
      ],
      "execution_count": null,
      "outputs": []
    },
    {
      "cell_type": "code",
      "metadata": {
        "id": "mpLhPqU9MJfr"
      },
      "source": [
        "seriKodlanmisHali=seriKodlanmisHali.reshape(-1,1)"
      ],
      "execution_count": null,
      "outputs": []
    },
    {
      "cell_type": "code",
      "metadata": {
        "id": "taQHHULnMORc"
      },
      "source": [
        "seriKodlanmisHaliDF=pd.DataFrame(data=seriKodlanmisHali,columns=[\"seri\"],index=range(0,len(verimustafa)))"
      ],
      "execution_count": null,
      "outputs": []
    },
    {
      "cell_type": "code",
      "metadata": {
        "id": "ozEPWuHCMUis"
      },
      "source": [
        "verimustafa=pd.concat([verimustafa,seriKodlanmisHaliDF],axis=1)"
      ],
      "execution_count": null,
      "outputs": []
    },
    {
      "cell_type": "code",
      "metadata": {
        "colab": {
          "base_uri": "https://localhost:8080/",
          "height": 419
        },
        "id": "hRQZBZG6MYoz",
        "outputId": "1e04119e-a79b-4b58-bc4c-aa4bec56f7a9"
      },
      "source": [
        "verimustafa"
      ],
      "execution_count": null,
      "outputs": [
        {
          "output_type": "execute_result",
          "data": {
            "text/html": [
              "<div>\n",
              "<style scoped>\n",
              "    .dataframe tbody tr th:only-of-type {\n",
              "        vertical-align: middle;\n",
              "    }\n",
              "\n",
              "    .dataframe tbody tr th {\n",
              "        vertical-align: top;\n",
              "    }\n",
              "\n",
              "    .dataframe thead th {\n",
              "        text-align: right;\n",
              "    }\n",
              "</style>\n",
              "<table border=\"1\" class=\"dataframe\">\n",
              "  <thead>\n",
              "    <tr style=\"text-align: right;\">\n",
              "      <th></th>\n",
              "      <th>km</th>\n",
              "      <th>renk</th>\n",
              "      <th>fiyat</th>\n",
              "      <th>model_yili</th>\n",
              "      <th>seri</th>\n",
              "    </tr>\n",
              "  </thead>\n",
              "  <tbody>\n",
              "    <tr>\n",
              "      <th>0</th>\n",
              "      <td>0.194617</td>\n",
              "      <td>1</td>\n",
              "      <td>119000</td>\n",
              "      <td>0.884615</td>\n",
              "      <td>3</td>\n",
              "    </tr>\n",
              "    <tr>\n",
              "      <th>1</th>\n",
              "      <td>0.688239</td>\n",
              "      <td>0</td>\n",
              "      <td>57000</td>\n",
              "      <td>0.500000</td>\n",
              "      <td>7</td>\n",
              "    </tr>\n",
              "    <tr>\n",
              "      <th>2</th>\n",
              "      <td>0.675249</td>\n",
              "      <td>0</td>\n",
              "      <td>85000</td>\n",
              "      <td>0.653846</td>\n",
              "      <td>3</td>\n",
              "    </tr>\n",
              "    <tr>\n",
              "      <th>3</th>\n",
              "      <td>0.577823</td>\n",
              "      <td>1</td>\n",
              "      <td>74500</td>\n",
              "      <td>0.692308</td>\n",
              "      <td>3</td>\n",
              "    </tr>\n",
              "    <tr>\n",
              "      <th>4</th>\n",
              "      <td>0.314125</td>\n",
              "      <td>0</td>\n",
              "      <td>93500</td>\n",
              "      <td>0.769231</td>\n",
              "      <td>3</td>\n",
              "    </tr>\n",
              "    <tr>\n",
              "      <th>...</th>\n",
              "      <td>...</td>\n",
              "      <td>...</td>\n",
              "      <td>...</td>\n",
              "      <td>...</td>\n",
              "      <td>...</td>\n",
              "    </tr>\n",
              "    <tr>\n",
              "      <th>68</th>\n",
              "      <td>1.000000</td>\n",
              "      <td>1</td>\n",
              "      <td>29123</td>\n",
              "      <td>0.769231</td>\n",
              "      <td>3</td>\n",
              "    </tr>\n",
              "    <tr>\n",
              "      <th>69</th>\n",
              "      <td>0.543789</td>\n",
              "      <td>0</td>\n",
              "      <td>18000</td>\n",
              "      <td>0.230769</td>\n",
              "      <td>4</td>\n",
              "    </tr>\n",
              "    <tr>\n",
              "      <th>70</th>\n",
              "      <td>0.004962</td>\n",
              "      <td>1</td>\n",
              "      <td>85000</td>\n",
              "      <td>0.961538</td>\n",
              "      <td>2</td>\n",
              "    </tr>\n",
              "    <tr>\n",
              "      <th>71</th>\n",
              "      <td>0.389468</td>\n",
              "      <td>1</td>\n",
              "      <td>12500</td>\n",
              "      <td>0.230769</td>\n",
              "      <td>11</td>\n",
              "    </tr>\n",
              "    <tr>\n",
              "      <th>72</th>\n",
              "      <td>0.264763</td>\n",
              "      <td>0</td>\n",
              "      <td>19000</td>\n",
              "      <td>0.423077</td>\n",
              "      <td>5</td>\n",
              "    </tr>\n",
              "  </tbody>\n",
              "</table>\n",
              "<p>73 rows × 5 columns</p>\n",
              "</div>"
            ],
            "text/plain": [
              "          km  renk   fiyat  model_yili  seri\n",
              "0   0.194617     1  119000    0.884615     3\n",
              "1   0.688239     0   57000    0.500000     7\n",
              "2   0.675249     0   85000    0.653846     3\n",
              "3   0.577823     1   74500    0.692308     3\n",
              "4   0.314125     0   93500    0.769231     3\n",
              "..       ...   ...     ...         ...   ...\n",
              "68  1.000000     1   29123    0.769231     3\n",
              "69  0.543789     0   18000    0.230769     4\n",
              "70  0.004962     1   85000    0.961538     2\n",
              "71  0.389468     1   12500    0.230769    11\n",
              "72  0.264763     0   19000    0.423077     5\n",
              "\n",
              "[73 rows x 5 columns]"
            ]
          },
          "metadata": {
            "tags": []
          },
          "execution_count": 581
        }
      ]
    },
    {
      "cell_type": "markdown",
      "metadata": {
        "id": "I5wfxtFtMkEj"
      },
      "source": [
        "***One Hot Encoder***"
      ]
    },
    {
      "cell_type": "code",
      "metadata": {
        "id": "WvSV6x5CMm1L"
      },
      "source": [
        "renkDelete=verimustafa.pop(\"renk\")"
      ],
      "execution_count": null,
      "outputs": []
    },
    {
      "cell_type": "code",
      "metadata": {
        "id": "Odq7GNN4Nt38"
      },
      "source": [
        "SahteKodlayici= OneHotEncoder()"
      ],
      "execution_count": null,
      "outputs": []
    },
    {
      "cell_type": "code",
      "metadata": {
        "id": "5704SsaiN0-i"
      },
      "source": [
        "renkKodlanmisHali=SahteKodlayici.fit_transform(renk.values.reshape(-1,1)).toarray()"
      ],
      "execution_count": null,
      "outputs": []
    },
    {
      "cell_type": "code",
      "metadata": {
        "id": "VJ83-XwVN5wQ"
      },
      "source": [
        "#renkDF=pd.DataFrame(data=renkKodlanmisHali,columns=[\"renk\"],index=range(0,len(verimustafa)))"
      ],
      "execution_count": null,
      "outputs": []
    },
    {
      "cell_type": "markdown",
      "metadata": {
        "id": "2bdEo7QvQ7Vr"
      },
      "source": [
        "***Yeni Öznitelik Oluşturma***"
      ]
    },
    {
      "cell_type": "code",
      "metadata": {
        "id": "ETzLoLncQ81k"
      },
      "source": [
        "df=pd.DataFrame(verimustafa)\n",
        "price=pd.to_datetime(df['model_yili'])\n",
        "df['yeni_model_yili']=price.dt.year"
      ],
      "execution_count": null,
      "outputs": []
    },
    {
      "cell_type": "code",
      "metadata": {
        "colab": {
          "base_uri": "https://localhost:8080/",
          "height": 419
        },
        "id": "WOzOryHgRqhC",
        "outputId": "3b965160-0cb8-4be9-9ada-e0c8bb04d0dc"
      },
      "source": [
        "df"
      ],
      "execution_count": null,
      "outputs": [
        {
          "output_type": "execute_result",
          "data": {
            "text/html": [
              "<div>\n",
              "<style scoped>\n",
              "    .dataframe tbody tr th:only-of-type {\n",
              "        vertical-align: middle;\n",
              "    }\n",
              "\n",
              "    .dataframe tbody tr th {\n",
              "        vertical-align: top;\n",
              "    }\n",
              "\n",
              "    .dataframe thead th {\n",
              "        text-align: right;\n",
              "    }\n",
              "</style>\n",
              "<table border=\"1\" class=\"dataframe\">\n",
              "  <thead>\n",
              "    <tr style=\"text-align: right;\">\n",
              "      <th></th>\n",
              "      <th>km</th>\n",
              "      <th>fiyat</th>\n",
              "      <th>model_yili</th>\n",
              "      <th>seri</th>\n",
              "      <th>yeni_model_yili</th>\n",
              "    </tr>\n",
              "  </thead>\n",
              "  <tbody>\n",
              "    <tr>\n",
              "      <th>0</th>\n",
              "      <td>0.194617</td>\n",
              "      <td>119000</td>\n",
              "      <td>0.884615</td>\n",
              "      <td>3</td>\n",
              "      <td>1970</td>\n",
              "    </tr>\n",
              "    <tr>\n",
              "      <th>1</th>\n",
              "      <td>0.688239</td>\n",
              "      <td>57000</td>\n",
              "      <td>0.500000</td>\n",
              "      <td>7</td>\n",
              "      <td>1970</td>\n",
              "    </tr>\n",
              "    <tr>\n",
              "      <th>2</th>\n",
              "      <td>0.675249</td>\n",
              "      <td>85000</td>\n",
              "      <td>0.653846</td>\n",
              "      <td>3</td>\n",
              "      <td>1970</td>\n",
              "    </tr>\n",
              "    <tr>\n",
              "      <th>3</th>\n",
              "      <td>0.577823</td>\n",
              "      <td>74500</td>\n",
              "      <td>0.692308</td>\n",
              "      <td>3</td>\n",
              "      <td>1970</td>\n",
              "    </tr>\n",
              "    <tr>\n",
              "      <th>4</th>\n",
              "      <td>0.314125</td>\n",
              "      <td>93500</td>\n",
              "      <td>0.769231</td>\n",
              "      <td>3</td>\n",
              "      <td>1970</td>\n",
              "    </tr>\n",
              "    <tr>\n",
              "      <th>...</th>\n",
              "      <td>...</td>\n",
              "      <td>...</td>\n",
              "      <td>...</td>\n",
              "      <td>...</td>\n",
              "      <td>...</td>\n",
              "    </tr>\n",
              "    <tr>\n",
              "      <th>68</th>\n",
              "      <td>1.000000</td>\n",
              "      <td>29123</td>\n",
              "      <td>0.769231</td>\n",
              "      <td>3</td>\n",
              "      <td>1970</td>\n",
              "    </tr>\n",
              "    <tr>\n",
              "      <th>69</th>\n",
              "      <td>0.543789</td>\n",
              "      <td>18000</td>\n",
              "      <td>0.230769</td>\n",
              "      <td>4</td>\n",
              "      <td>1970</td>\n",
              "    </tr>\n",
              "    <tr>\n",
              "      <th>70</th>\n",
              "      <td>0.004962</td>\n",
              "      <td>85000</td>\n",
              "      <td>0.961538</td>\n",
              "      <td>2</td>\n",
              "      <td>1970</td>\n",
              "    </tr>\n",
              "    <tr>\n",
              "      <th>71</th>\n",
              "      <td>0.389468</td>\n",
              "      <td>12500</td>\n",
              "      <td>0.230769</td>\n",
              "      <td>11</td>\n",
              "      <td>1970</td>\n",
              "    </tr>\n",
              "    <tr>\n",
              "      <th>72</th>\n",
              "      <td>0.264763</td>\n",
              "      <td>19000</td>\n",
              "      <td>0.423077</td>\n",
              "      <td>5</td>\n",
              "      <td>1970</td>\n",
              "    </tr>\n",
              "  </tbody>\n",
              "</table>\n",
              "<p>73 rows × 5 columns</p>\n",
              "</div>"
            ],
            "text/plain": [
              "          km   fiyat  model_yili  seri  yeni_model_yili\n",
              "0   0.194617  119000    0.884615     3             1970\n",
              "1   0.688239   57000    0.500000     7             1970\n",
              "2   0.675249   85000    0.653846     3             1970\n",
              "3   0.577823   74500    0.692308     3             1970\n",
              "4   0.314125   93500    0.769231     3             1970\n",
              "..       ...     ...         ...   ...              ...\n",
              "68  1.000000   29123    0.769231     3             1970\n",
              "69  0.543789   18000    0.230769     4             1970\n",
              "70  0.004962   85000    0.961538     2             1970\n",
              "71  0.389468   12500    0.230769    11             1970\n",
              "72  0.264763   19000    0.423077     5             1970\n",
              "\n",
              "[73 rows x 5 columns]"
            ]
          },
          "metadata": {
            "tags": []
          },
          "execution_count": 587
        }
      ]
    },
    {
      "cell_type": "code",
      "metadata": {
        "id": "9BpTAn0vR1bI"
      },
      "source": [
        "x=df[['model_yili']].values.astype(float)"
      ],
      "execution_count": null,
      "outputs": []
    },
    {
      "cell_type": "code",
      "metadata": {
        "id": "mJYBVUEHR5u2"
      },
      "source": [
        "min_max_scaler=preprocessing.MinMaxScaler()"
      ],
      "execution_count": null,
      "outputs": []
    },
    {
      "cell_type": "code",
      "metadata": {
        "id": "VWJ6hQqzSDE2"
      },
      "source": [
        "x_scaled = min_max_scaler.fit_transform(x)"
      ],
      "execution_count": null,
      "outputs": []
    },
    {
      "cell_type": "code",
      "metadata": {
        "id": "HSICbesvSFTA"
      },
      "source": [
        "df['model_yili_2_olcek'] = pd.DataFrame(x_scaled)"
      ],
      "execution_count": null,
      "outputs": []
    },
    {
      "cell_type": "code",
      "metadata": {
        "colab": {
          "base_uri": "https://localhost:8080/",
          "height": 419
        },
        "id": "xtnUulA9SJKg",
        "outputId": "afd4d31a-798c-48c6-8dcd-2c0bb242c65a"
      },
      "source": [
        "df"
      ],
      "execution_count": null,
      "outputs": [
        {
          "output_type": "execute_result",
          "data": {
            "text/html": [
              "<div>\n",
              "<style scoped>\n",
              "    .dataframe tbody tr th:only-of-type {\n",
              "        vertical-align: middle;\n",
              "    }\n",
              "\n",
              "    .dataframe tbody tr th {\n",
              "        vertical-align: top;\n",
              "    }\n",
              "\n",
              "    .dataframe thead th {\n",
              "        text-align: right;\n",
              "    }\n",
              "</style>\n",
              "<table border=\"1\" class=\"dataframe\">\n",
              "  <thead>\n",
              "    <tr style=\"text-align: right;\">\n",
              "      <th></th>\n",
              "      <th>km</th>\n",
              "      <th>fiyat</th>\n",
              "      <th>model_yili</th>\n",
              "      <th>seri</th>\n",
              "      <th>yeni_model_yili</th>\n",
              "      <th>model_yili_2_olcek</th>\n",
              "    </tr>\n",
              "  </thead>\n",
              "  <tbody>\n",
              "    <tr>\n",
              "      <th>0</th>\n",
              "      <td>0.194617</td>\n",
              "      <td>119000</td>\n",
              "      <td>0.884615</td>\n",
              "      <td>3</td>\n",
              "      <td>1970</td>\n",
              "      <td>0.884615</td>\n",
              "    </tr>\n",
              "    <tr>\n",
              "      <th>1</th>\n",
              "      <td>0.688239</td>\n",
              "      <td>57000</td>\n",
              "      <td>0.500000</td>\n",
              "      <td>7</td>\n",
              "      <td>1970</td>\n",
              "      <td>0.500000</td>\n",
              "    </tr>\n",
              "    <tr>\n",
              "      <th>2</th>\n",
              "      <td>0.675249</td>\n",
              "      <td>85000</td>\n",
              "      <td>0.653846</td>\n",
              "      <td>3</td>\n",
              "      <td>1970</td>\n",
              "      <td>0.653846</td>\n",
              "    </tr>\n",
              "    <tr>\n",
              "      <th>3</th>\n",
              "      <td>0.577823</td>\n",
              "      <td>74500</td>\n",
              "      <td>0.692308</td>\n",
              "      <td>3</td>\n",
              "      <td>1970</td>\n",
              "      <td>0.692308</td>\n",
              "    </tr>\n",
              "    <tr>\n",
              "      <th>4</th>\n",
              "      <td>0.314125</td>\n",
              "      <td>93500</td>\n",
              "      <td>0.769231</td>\n",
              "      <td>3</td>\n",
              "      <td>1970</td>\n",
              "      <td>0.769231</td>\n",
              "    </tr>\n",
              "    <tr>\n",
              "      <th>...</th>\n",
              "      <td>...</td>\n",
              "      <td>...</td>\n",
              "      <td>...</td>\n",
              "      <td>...</td>\n",
              "      <td>...</td>\n",
              "      <td>...</td>\n",
              "    </tr>\n",
              "    <tr>\n",
              "      <th>68</th>\n",
              "      <td>1.000000</td>\n",
              "      <td>29123</td>\n",
              "      <td>0.769231</td>\n",
              "      <td>3</td>\n",
              "      <td>1970</td>\n",
              "      <td>0.769231</td>\n",
              "    </tr>\n",
              "    <tr>\n",
              "      <th>69</th>\n",
              "      <td>0.543789</td>\n",
              "      <td>18000</td>\n",
              "      <td>0.230769</td>\n",
              "      <td>4</td>\n",
              "      <td>1970</td>\n",
              "      <td>0.230769</td>\n",
              "    </tr>\n",
              "    <tr>\n",
              "      <th>70</th>\n",
              "      <td>0.004962</td>\n",
              "      <td>85000</td>\n",
              "      <td>0.961538</td>\n",
              "      <td>2</td>\n",
              "      <td>1970</td>\n",
              "      <td>0.961538</td>\n",
              "    </tr>\n",
              "    <tr>\n",
              "      <th>71</th>\n",
              "      <td>0.389468</td>\n",
              "      <td>12500</td>\n",
              "      <td>0.230769</td>\n",
              "      <td>11</td>\n",
              "      <td>1970</td>\n",
              "      <td>0.230769</td>\n",
              "    </tr>\n",
              "    <tr>\n",
              "      <th>72</th>\n",
              "      <td>0.264763</td>\n",
              "      <td>19000</td>\n",
              "      <td>0.423077</td>\n",
              "      <td>5</td>\n",
              "      <td>1970</td>\n",
              "      <td>0.423077</td>\n",
              "    </tr>\n",
              "  </tbody>\n",
              "</table>\n",
              "<p>73 rows × 6 columns</p>\n",
              "</div>"
            ],
            "text/plain": [
              "          km   fiyat  model_yili  seri  yeni_model_yili  model_yili_2_olcek\n",
              "0   0.194617  119000    0.884615     3             1970            0.884615\n",
              "1   0.688239   57000    0.500000     7             1970            0.500000\n",
              "2   0.675249   85000    0.653846     3             1970            0.653846\n",
              "3   0.577823   74500    0.692308     3             1970            0.692308\n",
              "4   0.314125   93500    0.769231     3             1970            0.769231\n",
              "..       ...     ...         ...   ...              ...                 ...\n",
              "68  1.000000   29123    0.769231     3             1970            0.769231\n",
              "69  0.543789   18000    0.230769     4             1970            0.230769\n",
              "70  0.004962   85000    0.961538     2             1970            0.961538\n",
              "71  0.389468   12500    0.230769    11             1970            0.230769\n",
              "72  0.264763   19000    0.423077     5             1970            0.423077\n",
              "\n",
              "[73 rows x 6 columns]"
            ]
          },
          "metadata": {
            "tags": []
          },
          "execution_count": 592
        }
      ]
    },
    {
      "cell_type": "markdown",
      "metadata": {
        "id": "0-bYJqnvSVAy"
      },
      "source": [
        "***Aykırı veri tespit etme...***"
      ]
    },
    {
      "cell_type": "code",
      "metadata": {
        "colab": {
          "base_uri": "https://localhost:8080/",
          "height": 297
        },
        "id": "37wmGzzgSWyz",
        "outputId": "d6e5bc93-e021-416c-8dbc-e78b6cbed620"
      },
      "source": [
        "sns.boxplot(x=df['model_yili'])"
      ],
      "execution_count": null,
      "outputs": [
        {
          "output_type": "execute_result",
          "data": {
            "text/plain": [
              "<matplotlib.axes._subplots.AxesSubplot at 0x7fea92f397d0>"
            ]
          },
          "metadata": {
            "tags": []
          },
          "execution_count": 593
        },
        {
          "output_type": "display_data",
          "data": {
            "image/png": "[encoded data removed]",
            "text/plain": [
              "<Figure size 432x288 with 1 Axes>"
            ]
          },
          "metadata": {
            "tags": [],
            "needs_background": "light"
          }
        }
      ]
    }
  ]
}